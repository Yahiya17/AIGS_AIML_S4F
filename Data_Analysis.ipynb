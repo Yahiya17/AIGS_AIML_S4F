{
 "cells": [
  {
   "cell_type": "markdown",
   "id": "b9e56e85-915e-4f30-9584-d40780d03c89",
   "metadata": {},
   "source": [
    "int : 0 , 1 , 3....\n",
    "float: 34.5 , 25.236\n",
    "bool: True or False\n",
    "Str: x = \"Welcome to skills for future training \" - object\n",
    "complex: 3 + 4j"
   ]
  },
  {
   "cell_type": "code",
   "execution_count": 16,
   "id": "002c3b5e-9dc9-44df-aeb7-d8961f7409eb",
   "metadata": {},
   "outputs": [
    {
     "data": {
      "text/plain": [
       "['India', 1947, 'Delhi', 200]"
      ]
     },
     "execution_count": 16,
     "metadata": {},
     "output_type": "execute_result"
    }
   ],
   "source": [
    "x = [\"India\" , 1947 , \"Delhi\", 200]\n",
    "x"
   ]
  },
  {
   "cell_type": "code",
   "execution_count": 17,
   "id": "ddc26349-c109-439b-be9f-a76d9998b826",
   "metadata": {},
   "outputs": [
    {
     "data": {
      "text/plain": [
       "['__add__',\n",
       " '__class__',\n",
       " '__class_getitem__',\n",
       " '__contains__',\n",
       " '__delattr__',\n",
       " '__delitem__',\n",
       " '__dir__',\n",
       " '__doc__',\n",
       " '__eq__',\n",
       " '__format__',\n",
       " '__ge__',\n",
       " '__getattribute__',\n",
       " '__getitem__',\n",
       " '__getstate__',\n",
       " '__gt__',\n",
       " '__hash__',\n",
       " '__iadd__',\n",
       " '__imul__',\n",
       " '__init__',\n",
       " '__init_subclass__',\n",
       " '__iter__',\n",
       " '__le__',\n",
       " '__len__',\n",
       " '__lt__',\n",
       " '__mul__',\n",
       " '__ne__',\n",
       " '__new__',\n",
       " '__reduce__',\n",
       " '__reduce_ex__',\n",
       " '__repr__',\n",
       " '__reversed__',\n",
       " '__rmul__',\n",
       " '__setattr__',\n",
       " '__setitem__',\n",
       " '__sizeof__',\n",
       " '__str__',\n",
       " '__subclasshook__',\n",
       " 'append',\n",
       " 'clear',\n",
       " 'copy',\n",
       " 'count',\n",
       " 'extend',\n",
       " 'index',\n",
       " 'insert',\n",
       " 'pop',\n",
       " 'remove',\n",
       " 'reverse',\n",
       " 'sort']"
      ]
     },
     "execution_count": 17,
     "metadata": {},
     "output_type": "execute_result"
    }
   ],
   "source": [
    "dir(list)"
   ]
  },
  {
   "cell_type": "code",
   "execution_count": 18,
   "id": "590a77e5-d5b3-4c40-88f4-f3cce4a131d3",
   "metadata": {},
   "outputs": [
    {
     "data": {
      "text/plain": [
       "['India', 1947, 'Delhi', 200, 'Karnatka']"
      ]
     },
     "execution_count": 18,
     "metadata": {},
     "output_type": "execute_result"
    }
   ],
   "source": [
    "x.append(\"Karnatka\")\n",
    "x"
   ]
  },
  {
   "cell_type": "code",
   "execution_count": 19,
   "id": "67bb0963-59bb-421a-a098-6aaec35531bd",
   "metadata": {},
   "outputs": [
    {
     "data": {
      "text/plain": [
       "['Independece', 'India', 1947, 'Delhi', 200, 'Karnatka']"
      ]
     },
     "execution_count": 19,
     "metadata": {},
     "output_type": "execute_result"
    }
   ],
   "source": [
    "x.insert(0,\"Independece\")\n",
    "x"
   ]
  },
  {
   "cell_type": "code",
   "execution_count": 20,
   "id": "853d930d-1299-4252-bbfe-7427cee48e4b",
   "metadata": {},
   "outputs": [
    {
     "data": {
      "text/plain": [
       "19"
      ]
     },
     "execution_count": 20,
     "metadata": {},
     "output_type": "execute_result"
    }
   ],
   "source": [
    "# strip cases\n",
    "y = \"19M\"\n",
    "a = y.rstrip(\"M\")\n",
    "int(a)"
   ]
  },
  {
   "cell_type": "code",
   "execution_count": 21,
   "id": "73d3d4be-2bb9-478f-9383-17941b1f2c13",
   "metadata": {},
   "outputs": [
    {
     "data": {
      "text/plain": [
       "'Delhi'"
      ]
     },
     "execution_count": 21,
     "metadata": {},
     "output_type": "execute_result"
    }
   ],
   "source": [
    "x[3]"
   ]
  },
  {
   "cell_type": "code",
   "execution_count": 22,
   "id": "a8ec6b3b-b0bf-4dd4-a27f-462d6eae0f33",
   "metadata": {},
   "outputs": [
    {
     "data": {
      "text/plain": [
       "['India', 1947]"
      ]
     },
     "execution_count": 22,
     "metadata": {},
     "output_type": "execute_result"
    }
   ],
   "source": [
    "x[1:3]"
   ]
  },
  {
   "cell_type": "code",
   "execution_count": 23,
   "id": "1111ce7f-5186-4f37-a750-3282adaa9757",
   "metadata": {},
   "outputs": [
    {
     "data": {
      "text/plain": [
       "6"
      ]
     },
     "execution_count": 23,
     "metadata": {},
     "output_type": "execute_result"
    }
   ],
   "source": [
    "len(x)"
   ]
  },
  {
   "cell_type": "code",
   "execution_count": 25,
   "id": "224a6c3c-f4af-4ec3-92af-380f66eaf875",
   "metadata": {},
   "outputs": [
    {
     "data": {
      "text/plain": [
       "('Yahiya', 12, 'Mysuru')"
      ]
     },
     "execution_count": 25,
     "metadata": {},
     "output_type": "execute_result"
    }
   ],
   "source": [
    "t = (\"Yahiya\" , 12 , \"Mysuru\")\n",
    "t"
   ]
  },
  {
   "cell_type": "code",
   "execution_count": 26,
   "id": "44167cb1-bd04-488c-af67-361c974cd459",
   "metadata": {},
   "outputs": [
    {
     "data": {
      "text/plain": [
       "['__add__',\n",
       " '__class__',\n",
       " '__class_getitem__',\n",
       " '__contains__',\n",
       " '__delattr__',\n",
       " '__dir__',\n",
       " '__doc__',\n",
       " '__eq__',\n",
       " '__format__',\n",
       " '__ge__',\n",
       " '__getattribute__',\n",
       " '__getitem__',\n",
       " '__getnewargs__',\n",
       " '__getstate__',\n",
       " '__gt__',\n",
       " '__hash__',\n",
       " '__init__',\n",
       " '__init_subclass__',\n",
       " '__iter__',\n",
       " '__le__',\n",
       " '__len__',\n",
       " '__lt__',\n",
       " '__mul__',\n",
       " '__ne__',\n",
       " '__new__',\n",
       " '__reduce__',\n",
       " '__reduce_ex__',\n",
       " '__repr__',\n",
       " '__rmul__',\n",
       " '__setattr__',\n",
       " '__sizeof__',\n",
       " '__str__',\n",
       " '__subclasshook__',\n",
       " 'count',\n",
       " 'index']"
      ]
     },
     "execution_count": 26,
     "metadata": {},
     "output_type": "execute_result"
    }
   ],
   "source": [
    "dir(tuple)"
   ]
  },
  {
   "cell_type": "code",
   "execution_count": 27,
   "id": "b012290b-d4ee-43ba-9bb6-c3a2038c4610",
   "metadata": {},
   "outputs": [
    {
     "data": {
      "text/plain": [
       "{'id': 101, 'name': 'India', 'age': 200, 'city': 'Delhi'}"
      ]
     },
     "execution_count": 27,
     "metadata": {},
     "output_type": "execute_result"
    }
   ],
   "source": [
    "# Dictionary\n",
    "d1 = {\"id\":101, \"name\": \"India\", \"age\": 200 , \"city\": \"Delhi\"}\n",
    "d1"
   ]
  },
  {
   "cell_type": "code",
   "execution_count": 28,
   "id": "da09080c-9b8d-433f-9f90-40e194a2ead4",
   "metadata": {},
   "outputs": [
    {
     "data": {
      "text/plain": [
       "'India'"
      ]
     },
     "execution_count": 28,
     "metadata": {},
     "output_type": "execute_result"
    }
   ],
   "source": [
    "d1[\"name\"]"
   ]
  },
  {
   "cell_type": "code",
   "execution_count": 29,
   "id": "ec43675b-5a79-4125-88e1-7ada4dce011e",
   "metadata": {},
   "outputs": [
    {
     "data": {
      "text/plain": [
       "'India'"
      ]
     },
     "execution_count": 29,
     "metadata": {},
     "output_type": "execute_result"
    }
   ],
   "source": [
    "d1.get(\"name\")"
   ]
  },
  {
   "cell_type": "code",
   "execution_count": 30,
   "id": "311a4cdd-2fe8-4497-b897-ce8349c28439",
   "metadata": {},
   "outputs": [],
   "source": [
    "del d1[\"city\"]"
   ]
  },
  {
   "cell_type": "code",
   "execution_count": 31,
   "id": "fe06ac20-7074-4815-badc-6c5b4a1f2b43",
   "metadata": {},
   "outputs": [
    {
     "data": {
      "text/plain": [
       "{'id': 101, 'name': 'India', 'age': 200}"
      ]
     },
     "execution_count": 31,
     "metadata": {},
     "output_type": "execute_result"
    }
   ],
   "source": [
    "d1"
   ]
  },
  {
   "cell_type": "code",
   "execution_count": 33,
   "id": "481bfd0b-65f2-4e31-a1fe-377eb67dfeff",
   "metadata": {},
   "outputs": [],
   "source": [
    "s1 = {1,4,7,9,12}\n",
    "s2 = {4,6,12,8,15}"
   ]
  },
  {
   "cell_type": "code",
   "execution_count": 34,
   "id": "b3ced003-1b35-4a09-a5e6-e91855465d59",
   "metadata": {},
   "outputs": [
    {
     "data": {
      "text/plain": [
       "{1, 4, 6, 7, 8, 9, 12, 15}"
      ]
     },
     "execution_count": 34,
     "metadata": {},
     "output_type": "execute_result"
    }
   ],
   "source": [
    "s1.union(s2)"
   ]
  },
  {
   "cell_type": "code",
   "execution_count": 35,
   "id": "17bceac1-6949-4621-9578-1277498e0b4f",
   "metadata": {},
   "outputs": [
    {
     "data": {
      "text/plain": [
       "{4, 12}"
      ]
     },
     "execution_count": 35,
     "metadata": {},
     "output_type": "execute_result"
    }
   ],
   "source": [
    "s1.intersection(s2)"
   ]
  },
  {
   "cell_type": "code",
   "execution_count": 37,
   "id": "c30f67b1-7972-4b8f-83e3-ab19cca53de0",
   "metadata": {},
   "outputs": [
    {
     "data": {
      "text/plain": [
       "[14, 56, 72, 90]"
      ]
     },
     "execution_count": 37,
     "metadata": {},
     "output_type": "execute_result"
    }
   ],
   "source": [
    "# list comprehension - without\n",
    "data = [23,14,56,72,90]\n",
    "new_data = []\n",
    "for x in data:\n",
    "    if x%2==0:\n",
    "        new_data.append(x)\n",
    "new_data"
   ]
  },
  {
   "cell_type": "code",
   "execution_count": 38,
   "id": "a1dccdd1-abe8-4536-8a11-e9bcd21751b8",
   "metadata": {},
   "outputs": [
    {
     "data": {
      "text/plain": [
       "[14, 56, 72, 90]"
      ]
     },
     "execution_count": 38,
     "metadata": {},
     "output_type": "execute_result"
    }
   ],
   "source": [
    "# If list comprehension is used!\n",
    "data1 = [x for x in data if x%2==0]\n",
    "data1"
   ]
  },
  {
   "cell_type": "code",
   "execution_count": 41,
   "id": "8ca6869a-4f9a-41c1-86bd-aa6daf7cc6cb",
   "metadata": {},
   "outputs": [
    {
     "name": "stdout",
     "output_type": "stream",
     "text": [
      "Requirement already satisfied: pandas in c:\\users\\myahi_\\appdata\\local\\programs\\python\\python312\\lib\\site-packages (2.2.3)\n",
      "Requirement already satisfied: numpy in c:\\users\\myahi_\\appdata\\local\\programs\\python\\python312\\lib\\site-packages (2.2.2)\n",
      "Requirement already satisfied: matplotlib in c:\\users\\myahi_\\appdata\\local\\programs\\python\\python312\\lib\\site-packages (3.10.0)\n",
      "Requirement already satisfied: seaborn in c:\\users\\myahi_\\appdata\\local\\programs\\python\\python312\\lib\\site-packages (0.13.2)\n",
      "Requirement already satisfied: python-dateutil>=2.8.2 in c:\\users\\myahi_\\appdata\\local\\programs\\python\\python312\\lib\\site-packages (from pandas) (2.9.0.post0)\n",
      "Requirement already satisfied: pytz>=2020.1 in c:\\users\\myahi_\\appdata\\local\\programs\\python\\python312\\lib\\site-packages (from pandas) (2025.1)\n",
      "Requirement already satisfied: tzdata>=2022.7 in c:\\users\\myahi_\\appdata\\local\\programs\\python\\python312\\lib\\site-packages (from pandas) (2025.1)\n",
      "Requirement already satisfied: contourpy>=1.0.1 in c:\\users\\myahi_\\appdata\\local\\programs\\python\\python312\\lib\\site-packages (from matplotlib) (1.3.1)\n",
      "Requirement already satisfied: cycler>=0.10 in c:\\users\\myahi_\\appdata\\local\\programs\\python\\python312\\lib\\site-packages (from matplotlib) (0.12.1)\n",
      "Requirement already satisfied: fonttools>=4.22.0 in c:\\users\\myahi_\\appdata\\local\\programs\\python\\python312\\lib\\site-packages (from matplotlib) (4.56.0)\n",
      "Requirement already satisfied: kiwisolver>=1.3.1 in c:\\users\\myahi_\\appdata\\local\\programs\\python\\python312\\lib\\site-packages (from matplotlib) (1.4.8)\n",
      "Requirement already satisfied: packaging>=20.0 in c:\\users\\myahi_\\appdata\\local\\programs\\python\\python312\\lib\\site-packages (from matplotlib) (24.2)\n",
      "Requirement already satisfied: pillow>=8 in c:\\users\\myahi_\\appdata\\local\\programs\\python\\python312\\lib\\site-packages (from matplotlib) (11.1.0)\n",
      "Requirement already satisfied: pyparsing>=2.3.1 in c:\\users\\myahi_\\appdata\\local\\programs\\python\\python312\\lib\\site-packages (from matplotlib) (3.2.1)\n",
      "Requirement already satisfied: six>=1.5 in c:\\users\\myahi_\\appdata\\local\\programs\\python\\python312\\lib\\site-packages (from python-dateutil>=2.8.2->pandas) (1.17.0)\n",
      "Note: you may need to restart the kernel to use updated packages.\n"
     ]
    }
   ],
   "source": [
    "pip install pandas numpy matplotlib seaborn"
   ]
  },
  {
   "cell_type": "code",
   "execution_count": 1,
   "id": "7d8fae13-8ca6-45a1-b32b-a3971c5ddbac",
   "metadata": {},
   "outputs": [],
   "source": [
    "import numpy as np"
   ]
  },
  {
   "cell_type": "code",
   "execution_count": 2,
   "id": "1263f983-0194-44d3-9a28-331905084c59",
   "metadata": {},
   "outputs": [
    {
     "data": {
      "text/plain": [
       "np.float64(51.0)"
      ]
     },
     "execution_count": 2,
     "metadata": {},
     "output_type": "execute_result"
    }
   ],
   "source": [
    "data = [23,14,56,72,90]\n",
    "np.mean(data)"
   ]
  },
  {
   "cell_type": "code",
   "execution_count": 3,
   "id": "89b42931-44e2-452c-af08-0c57fdce5ee6",
   "metadata": {},
   "outputs": [
    {
     "data": {
      "text/plain": [
       "np.int64(14)"
      ]
     },
     "execution_count": 3,
     "metadata": {},
     "output_type": "execute_result"
    }
   ],
   "source": [
    "np.min(data)"
   ]
  },
  {
   "cell_type": "code",
   "execution_count": 4,
   "id": "ac382d37-e2e8-40fc-8276-16680fbdec7b",
   "metadata": {},
   "outputs": [],
   "source": [
    "a = [1,3,5,6]\n",
    "b=[4,5,6,7]\n",
    "arr1 = np.array(a)\n",
    "arr2 = np.array(b)"
   ]
  },
  {
   "cell_type": "code",
   "execution_count": 6,
   "id": "dad172e0-8e1f-4297-8cb7-7dcc0350ff08",
   "metadata": {},
   "outputs": [
    {
     "data": {
      "text/plain": [
       "array([4, 5, 6, 7])"
      ]
     },
     "execution_count": 6,
     "metadata": {},
     "output_type": "execute_result"
    }
   ],
   "source": [
    "arr2"
   ]
  },
  {
   "cell_type": "code",
   "execution_count": 8,
   "id": "f1e01ff9-4a0f-4bb1-b812-a75458fec7a8",
   "metadata": {},
   "outputs": [
    {
     "data": {
      "text/plain": [
       "array([ 4, 15, 30, 42])"
      ]
     },
     "execution_count": 8,
     "metadata": {},
     "output_type": "execute_result"
    }
   ],
   "source": [
    "arr1 *arr2"
   ]
  },
  {
   "cell_type": "code",
   "execution_count": 9,
   "id": "31604233-e2a8-46a4-8f16-4213ed0b54a2",
   "metadata": {},
   "outputs": [
    {
     "data": {
      "text/plain": [
       "1"
      ]
     },
     "execution_count": 9,
     "metadata": {},
     "output_type": "execute_result"
    }
   ],
   "source": [
    "arr1.ndim"
   ]
  },
  {
   "cell_type": "code",
   "execution_count": 10,
   "id": "cf256581-1f5d-4f67-8c50-eed52d705779",
   "metadata": {},
   "outputs": [
    {
     "data": {
      "text/plain": [
       "(4,)"
      ]
     },
     "execution_count": 10,
     "metadata": {},
     "output_type": "execute_result"
    }
   ],
   "source": [
    "arr1.shape"
   ]
  },
  {
   "cell_type": "code",
   "execution_count": 11,
   "id": "7842590d-7baf-4434-aa92-097a69747a5b",
   "metadata": {},
   "outputs": [
    {
     "data": {
      "text/plain": [
       "dtype('int64')"
      ]
     },
     "execution_count": 11,
     "metadata": {},
     "output_type": "execute_result"
    }
   ],
   "source": [
    "arr1.dtype"
   ]
  },
  {
   "cell_type": "code",
   "execution_count": 12,
   "id": "ccc6ccf3-2019-47e1-8d74-4606b9315517",
   "metadata": {},
   "outputs": [
    {
     "data": {
      "text/plain": [
       "array([[1, 2, 3],\n",
       "       [4, 5, 6],\n",
       "       [7, 8, 9]])"
      ]
     },
     "execution_count": 12,
     "metadata": {},
     "output_type": "execute_result"
    }
   ],
   "source": [
    "arr3 = np.array([[1,2,3],[4,5,6],[7,8,9]])\n",
    "arr3"
   ]
  },
  {
   "cell_type": "code",
   "execution_count": 13,
   "id": "19abcad5-c7aa-4041-b641-02571473a60c",
   "metadata": {},
   "outputs": [
    {
     "data": {
      "text/plain": [
       "2"
      ]
     },
     "execution_count": 13,
     "metadata": {},
     "output_type": "execute_result"
    }
   ],
   "source": [
    "arr3.ndim"
   ]
  },
  {
   "cell_type": "code",
   "execution_count": 14,
   "id": "a5b43b70-23a1-4fd1-a71c-fe1c0559dd21",
   "metadata": {},
   "outputs": [
    {
     "data": {
      "text/plain": [
       "(3, 3)"
      ]
     },
     "execution_count": 14,
     "metadata": {},
     "output_type": "execute_result"
    }
   ],
   "source": [
    "arr3.shape"
   ]
  },
  {
   "cell_type": "code",
   "execution_count": 15,
   "id": "2cdf34db-1004-4468-b93d-00ac5a7ee1ff",
   "metadata": {},
   "outputs": [
    {
     "data": {
      "text/plain": [
       "array([0, 1, 2, 3, 4, 5, 6, 7, 8, 9])"
      ]
     },
     "execution_count": 15,
     "metadata": {},
     "output_type": "execute_result"
    }
   ],
   "source": [
    "np.arange(0,10,1)"
   ]
  },
  {
   "cell_type": "code",
   "execution_count": 16,
   "id": "c0306054-0a23-4097-bb06-a7b761bdd1f7",
   "metadata": {},
   "outputs": [
    {
     "data": {
      "text/plain": [
       "array([4, 5, 6, 7, 8, 9])"
      ]
     },
     "execution_count": 16,
     "metadata": {},
     "output_type": "execute_result"
    }
   ],
   "source": [
    "np.arange(4,10)"
   ]
  },
  {
   "cell_type": "code",
   "execution_count": 17,
   "id": "bd0ac239-0b8e-4c4d-a3f4-bc60ac2df47d",
   "metadata": {},
   "outputs": [
    {
     "data": {
      "text/plain": [
       "array([10,  9,  8,  7,  6,  5,  4,  3,  2])"
      ]
     },
     "execution_count": 17,
     "metadata": {},
     "output_type": "execute_result"
    }
   ],
   "source": [
    "np.arange(10,1,-1)"
   ]
  },
  {
   "cell_type": "code",
   "execution_count": 18,
   "id": "a91812f1-a502-41df-8066-794d9dd85adb",
   "metadata": {},
   "outputs": [
    {
     "data": {
      "text/plain": [
       "array([75, 82, 19, 45, 51], dtype=int32)"
      ]
     },
     "execution_count": 18,
     "metadata": {},
     "output_type": "execute_result"
    }
   ],
   "source": [
    "np.random.randint(10,100,5)"
   ]
  },
  {
   "cell_type": "code",
   "execution_count": 19,
   "id": "81c731ec-595b-46bc-9e43-755bc5f0b779",
   "metadata": {},
   "outputs": [
    {
     "data": {
      "text/plain": [
       "array([78.33550603, 51.63702881, 32.65110165, 20.06850181, 62.94241912,\n",
       "       56.87228288, 69.10482723, 40.41178595, 27.79566911, 23.28018162,\n",
       "       65.89472183, 78.3483612 , 12.87849423, 41.85490145, 87.08008397,\n",
       "       26.75296604, 84.45859066, 36.65176125, 21.60078149, 80.99740126,\n",
       "       37.55389714, 24.61002286, 46.90861599, 52.73845142, 28.65203779,\n",
       "       11.040649  , 88.77378175, 74.50202415, 52.86455162, 96.63278643,\n",
       "       15.57269402, 36.42753612, 81.15104829, 29.04240104, 58.50517649,\n",
       "       60.9839693 , 15.00557136, 18.24709006, 74.15204825, 66.30599065,\n",
       "       18.03446566, 47.73516259, 73.71056946, 32.21331379, 97.77928831,\n",
       "       64.24894269, 96.45138452, 70.41229818, 64.4789543 , 10.37334941])"
      ]
     },
     "execution_count": 19,
     "metadata": {},
     "output_type": "execute_result"
    }
   ],
   "source": [
    "np.random.uniform(10,100,50)"
   ]
  },
  {
   "cell_type": "code",
   "execution_count": 21,
   "id": "779d1ae1-ede1-4fbc-8c62-10401cddf791",
   "metadata": {},
   "outputs": [
    {
     "data": {
      "text/plain": [
       "array([0.7332737 , 0.94997522, 0.19875674, 0.20172026, 0.89236146,\n",
       "       0.1061567 , 0.39582202, 0.79698199, 0.18460317, 0.54524958,\n",
       "       0.66442806, 0.53394733, 0.8636439 , 0.1400652 , 0.93997711,\n",
       "       0.729715  , 0.92592067, 0.57162285, 0.92293145, 0.74990305,\n",
       "       0.38924021, 0.61041068, 0.38456809, 0.06303153, 0.88660268,\n",
       "       0.53055562, 0.46040922, 0.62928747, 0.49304363, 0.88079377,\n",
       "       0.92086053, 0.67774512, 0.36807013, 0.69854379, 0.93201271,\n",
       "       0.24094148, 0.99912893, 0.49117842, 0.32545218, 0.74611876,\n",
       "       0.99564595, 0.60974771, 0.29747879, 0.27804773, 0.94297569,\n",
       "       0.69643485, 0.31447698, 0.06549315, 0.06091719, 0.76354962,\n",
       "       0.86583611, 0.50156408, 0.52631592, 0.35151403, 0.60512349,\n",
       "       0.17144664, 0.25873583, 0.97081972, 0.9173853 , 0.82517104,\n",
       "       0.33874614, 0.44244652, 0.00500225, 0.59107927, 0.94376094,\n",
       "       0.81797174, 0.73882662, 0.34015805, 0.91408676, 0.39358407,\n",
       "       0.23772933, 0.34386471, 0.14473054, 0.97679629, 0.51494616,\n",
       "       0.49476324, 0.73319102, 0.26166517, 0.44423644, 0.70619958,\n",
       "       0.77859438, 0.49625265, 0.62491407, 0.9108234 , 0.40127393,\n",
       "       0.21003113, 0.76141173, 0.97618706, 0.65593471, 0.51787522,\n",
       "       0.78762361, 0.0807671 , 0.37084796, 0.29490397, 0.65334425,\n",
       "       0.2157209 , 0.34843012, 0.39975361, 0.32084698, 0.58126132])"
      ]
     },
     "execution_count": 21,
     "metadata": {},
     "output_type": "execute_result"
    }
   ],
   "source": [
    "np.random.rand(100)"
   ]
  },
  {
   "cell_type": "code",
   "execution_count": 22,
   "id": "4542f1c3-4d8a-4b68-9bfb-a331f0b0125c",
   "metadata": {},
   "outputs": [
    {
     "data": {
      "text/plain": [
       "array([[81, 25, 16],\n",
       "       [26, 52, 12],\n",
       "       [12, 70, 68],\n",
       "       [99, 40, 54]], dtype=int32)"
      ]
     },
     "execution_count": 22,
     "metadata": {},
     "output_type": "execute_result"
    }
   ],
   "source": [
    "np.random.randint(10,100,12).reshape(4,3)"
   ]
  },
  {
   "cell_type": "code",
   "execution_count": 23,
   "id": "0ff34a4b-eac9-406c-b5af-674497ced9d8",
   "metadata": {},
   "outputs": [
    {
     "data": {
      "text/plain": [
       "np.float64(45.0)"
      ]
     },
     "execution_count": 23,
     "metadata": {},
     "output_type": "execute_result"
    }
   ],
   "source": [
    "r = 45.7\n",
    "np.floor(r)"
   ]
  },
  {
   "cell_type": "code",
   "execution_count": 24,
   "id": "eb2f95a0-d892-4d6c-9f24-cba43d200a05",
   "metadata": {},
   "outputs": [
    {
     "data": {
      "text/plain": [
       "np.float64(46.0)"
      ]
     },
     "execution_count": 24,
     "metadata": {},
     "output_type": "execute_result"
    }
   ],
   "source": [
    "np.ceil(r)"
   ]
  },
  {
   "cell_type": "code",
   "execution_count": 25,
   "id": "57500a8c-d6d2-4372-b4dc-014bb0b4edd9",
   "metadata": {},
   "outputs": [],
   "source": [
    "z = np.random.randint(1,100,12)"
   ]
  },
  {
   "cell_type": "code",
   "execution_count": 26,
   "id": "538c4098-b1ae-4676-8993-9cba8c42bc2c",
   "metadata": {},
   "outputs": [],
   "source": [
    "z = sorted(z)"
   ]
  },
  {
   "cell_type": "code",
   "execution_count": 27,
   "id": "c08a4254-ea3d-4133-b728-5539595b8ceb",
   "metadata": {},
   "outputs": [
    {
     "data": {
      "text/plain": [
       "[np.int32(8),\n",
       " np.int32(8),\n",
       " np.int32(11),\n",
       " np.int32(26),\n",
       " np.int32(41),\n",
       " np.int32(44),\n",
       " np.int32(44),\n",
       " np.int32(63),\n",
       " np.int32(63),\n",
       " np.int32(86),\n",
       " np.int32(91),\n",
       " np.int32(99)]"
      ]
     },
     "execution_count": 27,
     "metadata": {},
     "output_type": "execute_result"
    }
   ],
   "source": [
    "z"
   ]
  },
  {
   "cell_type": "code",
   "execution_count": 28,
   "id": "b07465a7-b912-416b-bdb3-a442ccafaebb",
   "metadata": {},
   "outputs": [
    {
     "data": {
      "text/plain": [
       "np.float64(68.75)"
      ]
     },
     "execution_count": 28,
     "metadata": {},
     "output_type": "execute_result"
    }
   ],
   "source": [
    "np.percentile(z,75)"
   ]
  },
  {
   "cell_type": "code",
   "execution_count": 29,
   "id": "87cfe5f9-6449-47ac-bb75-7ca8da8ec97b",
   "metadata": {},
   "outputs": [],
   "source": [
    "import pandas as pd"
   ]
  },
  {
   "cell_type": "code",
   "execution_count": 32,
   "id": "0cd1f199-2755-4e23-8edd-e50667eac507",
   "metadata": {},
   "outputs": [],
   "source": [
    "renewable_sources = [\"solar\",\"wind\",\"hydro power\", \"Geothermal\",\"Biomass\"]\n",
    "\n",
    "data = {\n",
    "    \"Project\" : [\"solar farm\",\"Wind turbine\",\"Hydro power\",\"solar Roof\",\"Geothermal plant\"],\n",
    "    \"Technology\" : [\"solar\",\"wind\",\"hydro\",\"solar\",\"geothermal\"],\n",
    "    \"Capacity (MW)\":[150,300,200,50,100],\n",
    "    \"Costs (Millions $)\":[200,400,350,100,250],\n",
    "    \"Location\":[\"California\",\"Texas\",\"Washington\",\"Nevada\",\"Chicago\"],\n",
    "    \"Completion Year\":[2023,2024,2022,2025,2023]\n",
    "}"
   ]
  },
  {
   "cell_type": "code",
   "execution_count": 33,
   "id": "8d4dc964-ba64-488b-9a52-0bf704181f74",
   "metadata": {},
   "outputs": [
    {
     "name": "stdout",
     "output_type": "stream",
     "text": [
      "Renewable Energy Sources are:\n",
      "0          solar\n",
      "1           wind\n",
      "2    hydro power\n",
      "3     Geothermal\n",
      "4        Biomass\n",
      "dtype: object\n"
     ]
    }
   ],
   "source": [
    "# create a pandas series for renewable energy sources\n",
    "renewable_series = pd.Series(renewable_sources)\n",
    "print(\"Renewable Energy Sources are:\")\n",
    "print(renewable_series)"
   ]
  },
  {
   "cell_type": "code",
   "execution_count": 34,
   "id": "7e03ff91-c75f-4fe3-b6d8-9a67cb1f8ce3",
   "metadata": {},
   "outputs": [
    {
     "name": "stdout",
     "output_type": "stream",
     "text": [
      "Green Technology Projects DataFrame\n",
      "            Project  Technology  Capacity (MW)  Costs (Millions $)  \\\n",
      "0        solar farm       solar            150                 200   \n",
      "1      Wind turbine        wind            300                 400   \n",
      "2       Hydro power       hydro            200                 350   \n",
      "3        solar Roof       solar             50                 100   \n",
      "4  Geothermal plant  geothermal            100                 250   \n",
      "\n",
      "     Location  Completion Year  \n",
      "0  California             2023  \n",
      "1       Texas             2024  \n",
      "2  Washington             2022  \n",
      "3      Nevada             2025  \n",
      "4     Chicago             2023  \n"
     ]
    }
   ],
   "source": [
    "# Create a Dataframe for green tech projects\n",
    "df = pd.DataFrame(data)\n",
    "print(\"Green Technology Projects DataFrame\")\n",
    "print(df)"
   ]
  },
  {
   "cell_type": "code",
   "execution_count": 36,
   "id": "4e6ecc7c-cad1-4696-92af-8d93b3c7fe48",
   "metadata": {},
   "outputs": [
    {
     "data": {
      "text/plain": [
       "0          solar farm\n",
       "1        Wind turbine\n",
       "2         Hydro power\n",
       "3          solar Roof\n",
       "4    Geothermal plant\n",
       "Name: Project, dtype: object"
      ]
     },
     "execution_count": 36,
     "metadata": {},
     "output_type": "execute_result"
    }
   ],
   "source": [
    "df[\"Project\"]"
   ]
  },
  {
   "cell_type": "code",
   "execution_count": 39,
   "id": "3479b7cc-8dd6-423d-83a1-e76f04eec8d7",
   "metadata": {},
   "outputs": [
    {
     "name": "stdout",
     "output_type": "stream",
     "text": [
      "0          solar farm\n",
      "1        Wind turbine\n",
      "2         Hydro power\n",
      "3          solar Roof\n",
      "4    Geothermal plant\n",
      "Name: Project, dtype: object\n"
     ]
    }
   ],
   "source": [
    "print(df[\"Project\"])"
   ]
  },
  {
   "cell_type": "code",
   "execution_count": 40,
   "id": "e761cd10-9a5a-4917-8447-072628e2a301",
   "metadata": {},
   "outputs": [
    {
     "data": {
      "text/plain": [
       "0    California\n",
       "1         Texas\n",
       "2    Washington\n",
       "3        Nevada\n",
       "4       Chicago\n",
       "Name: Location, dtype: object"
      ]
     },
     "execution_count": 40,
     "metadata": {},
     "output_type": "execute_result"
    }
   ],
   "source": [
    "df[\"Location\"]"
   ]
  },
  {
   "cell_type": "code",
   "execution_count": 46,
   "id": "f97d4873-42c0-4c82-8a07-86befb7c8e82",
   "metadata": {},
   "outputs": [
    {
     "data": {
      "text/html": [
       "<div>\n",
       "<style scoped>\n",
       "    .dataframe tbody tr th:only-of-type {\n",
       "        vertical-align: middle;\n",
       "    }\n",
       "\n",
       "    .dataframe tbody tr th {\n",
       "        vertical-align: top;\n",
       "    }\n",
       "\n",
       "    .dataframe thead th {\n",
       "        text-align: right;\n",
       "    }\n",
       "</style>\n",
       "<table border=\"1\" class=\"dataframe\">\n",
       "  <thead>\n",
       "    <tr style=\"text-align: right;\">\n",
       "      <th></th>\n",
       "      <th>Project</th>\n",
       "      <th>Technology</th>\n",
       "      <th>Capacity (MW)</th>\n",
       "      <th>Costs (Millions $)</th>\n",
       "      <th>Location</th>\n",
       "      <th>Completion Year</th>\n",
       "    </tr>\n",
       "  </thead>\n",
       "  <tbody>\n",
       "    <tr>\n",
       "      <th>0</th>\n",
       "      <td>solar farm</td>\n",
       "      <td>solar</td>\n",
       "      <td>150</td>\n",
       "      <td>200</td>\n",
       "      <td>California</td>\n",
       "      <td>2023</td>\n",
       "    </tr>\n",
       "    <tr>\n",
       "      <th>1</th>\n",
       "      <td>Wind turbine</td>\n",
       "      <td>wind</td>\n",
       "      <td>300</td>\n",
       "      <td>400</td>\n",
       "      <td>Texas</td>\n",
       "      <td>2024</td>\n",
       "    </tr>\n",
       "    <tr>\n",
       "      <th>2</th>\n",
       "      <td>Hydro power</td>\n",
       "      <td>hydro</td>\n",
       "      <td>200</td>\n",
       "      <td>350</td>\n",
       "      <td>Washington</td>\n",
       "      <td>2022</td>\n",
       "    </tr>\n",
       "  </tbody>\n",
       "</table>\n",
       "</div>"
      ],
      "text/plain": [
       "        Project Technology  Capacity (MW)  Costs (Millions $)    Location  \\\n",
       "0    solar farm      solar            150                 200  California   \n",
       "1  Wind turbine       wind            300                 400       Texas   \n",
       "2   Hydro power      hydro            200                 350  Washington   \n",
       "\n",
       "   Completion Year  \n",
       "0             2023  \n",
       "1             2024  \n",
       "2             2022  "
      ]
     },
     "execution_count": 46,
     "metadata": {},
     "output_type": "execute_result"
    }
   ],
   "source": [
    "# Want to print only high capacity projects (>100 MW)\n",
    "hcp =df[df[\"Capacity (MW)\"]>100]\n",
    "hcp"
   ]
  },
  {
   "cell_type": "code",
   "execution_count": 48,
   "id": "dbe9ff50-2681-49e5-9c90-ae5012e6c8b9",
   "metadata": {},
   "outputs": [
    {
     "data": {
      "text/html": [
       "<div>\n",
       "<style scoped>\n",
       "    .dataframe tbody tr th:only-of-type {\n",
       "        vertical-align: middle;\n",
       "    }\n",
       "\n",
       "    .dataframe tbody tr th {\n",
       "        vertical-align: top;\n",
       "    }\n",
       "\n",
       "    .dataframe thead th {\n",
       "        text-align: right;\n",
       "    }\n",
       "</style>\n",
       "<table border=\"1\" class=\"dataframe\">\n",
       "  <thead>\n",
       "    <tr style=\"text-align: right;\">\n",
       "      <th></th>\n",
       "      <th>Project</th>\n",
       "      <th>Technology</th>\n",
       "      <th>Capacity (MW)</th>\n",
       "      <th>Costs (Millions $)</th>\n",
       "      <th>Location</th>\n",
       "      <th>Completion Year</th>\n",
       "      <th>Cost per MW</th>\n",
       "    </tr>\n",
       "  </thead>\n",
       "  <tbody>\n",
       "    <tr>\n",
       "      <th>0</th>\n",
       "      <td>solar farm</td>\n",
       "      <td>solar</td>\n",
       "      <td>150</td>\n",
       "      <td>200</td>\n",
       "      <td>California</td>\n",
       "      <td>2023</td>\n",
       "      <td>1.333333</td>\n",
       "    </tr>\n",
       "    <tr>\n",
       "      <th>1</th>\n",
       "      <td>Wind turbine</td>\n",
       "      <td>wind</td>\n",
       "      <td>300</td>\n",
       "      <td>400</td>\n",
       "      <td>Texas</td>\n",
       "      <td>2024</td>\n",
       "      <td>1.333333</td>\n",
       "    </tr>\n",
       "    <tr>\n",
       "      <th>2</th>\n",
       "      <td>Hydro power</td>\n",
       "      <td>hydro</td>\n",
       "      <td>200</td>\n",
       "      <td>350</td>\n",
       "      <td>Washington</td>\n",
       "      <td>2022</td>\n",
       "      <td>1.750000</td>\n",
       "    </tr>\n",
       "    <tr>\n",
       "      <th>3</th>\n",
       "      <td>solar Roof</td>\n",
       "      <td>solar</td>\n",
       "      <td>50</td>\n",
       "      <td>100</td>\n",
       "      <td>Nevada</td>\n",
       "      <td>2025</td>\n",
       "      <td>2.000000</td>\n",
       "    </tr>\n",
       "    <tr>\n",
       "      <th>4</th>\n",
       "      <td>Geothermal plant</td>\n",
       "      <td>geothermal</td>\n",
       "      <td>100</td>\n",
       "      <td>250</td>\n",
       "      <td>Chicago</td>\n",
       "      <td>2023</td>\n",
       "      <td>2.500000</td>\n",
       "    </tr>\n",
       "  </tbody>\n",
       "</table>\n",
       "</div>"
      ],
      "text/plain": [
       "            Project  Technology  Capacity (MW)  Costs (Millions $)  \\\n",
       "0        solar farm       solar            150                 200   \n",
       "1      Wind turbine        wind            300                 400   \n",
       "2       Hydro power       hydro            200                 350   \n",
       "3        solar Roof       solar             50                 100   \n",
       "4  Geothermal plant  geothermal            100                 250   \n",
       "\n",
       "     Location  Completion Year  Cost per MW  \n",
       "0  California             2023     1.333333  \n",
       "1       Texas             2024     1.333333  \n",
       "2  Washington             2022     1.750000  \n",
       "3      Nevada             2025     2.000000  \n",
       "4     Chicago             2023     2.500000  "
      ]
     },
     "execution_count": 48,
     "metadata": {},
     "output_type": "execute_result"
    }
   ],
   "source": [
    "# Add new col\n",
    "df[\"Cost per MW\"] = df[\"Costs (Millions $)\"] /df[\"Capacity (MW)\"]\n",
    "df"
   ]
  },
  {
   "cell_type": "code",
   "execution_count": 49,
   "id": "e4f6c395-1f8e-446e-88f4-65f546f8053f",
   "metadata": {},
   "outputs": [
    {
     "name": "stdout",
     "output_type": "stream",
     "text": [
      "The total Capacity of all the projects are:  800\n",
      "The total cost of the projects : 1300\n"
     ]
    }
   ],
   "source": [
    "# Aggregation \n",
    "total_capacity = df[\"Capacity (MW)\"].sum()\n",
    "total_cost=df[\"Costs (Millions $)\"].sum()\n",
    "print(\"The total Capacity of all the projects are: \",total_capacity)\n",
    "print(\"The total cost of the projects :\",total_cost)"
   ]
  },
  {
   "cell_type": "code",
   "execution_count": 50,
   "id": "6240b58d-1a55-419d-8eae-5a454850a4d0",
   "metadata": {},
   "outputs": [
    {
     "data": {
      "text/plain": [
       "Technology\n",
       "geothermal    100\n",
       "hydro         200\n",
       "solar         200\n",
       "wind          300\n",
       "Name: Capacity (MW), dtype: int64"
      ]
     },
     "execution_count": 50,
     "metadata": {},
     "output_type": "execute_result"
    }
   ],
   "source": [
    "# Grouping of data\n",
    "grouped_data = df.groupby(\"Technology\")[\"Capacity (MW)\"].sum()\n",
    "grouped_data"
   ]
  },
  {
   "cell_type": "markdown",
   "id": "4e7e953a-3336-4aba-9276-3cc68d98f1bc",
   "metadata": {},
   "source": [
    "## Day 3:Numpy"
   ]
  },
  {
   "cell_type": "code",
   "execution_count": 2,
   "id": "6ea2bb5c-6f53-462d-b358-011b97a44e22",
   "metadata": {},
   "outputs": [
    {
     "name": "stdout",
     "output_type": "stream",
     "text": [
      "Energy Consumption in mWh for different energy sources\n"
     ]
    },
    {
     "data": {
      "text/plain": [
       "array([1200, 3400, 2900, 1800, 2500])"
      ]
     },
     "execution_count": 2,
     "metadata": {},
     "output_type": "execute_result"
    }
   ],
   "source": [
    "import numpy as np\n",
    "\n",
    "energy_consumption = np.array([1200,3400,2900,1800,2500])\n",
    "print(\"Energy Consumption in mWh for different energy sources\")\n",
    "energy_consumption"
   ]
  },
  {
   "cell_type": "code",
   "execution_count": 3,
   "id": "70f49a91-2993-4068-ab5c-461455d428e0",
   "metadata": {},
   "outputs": [
    {
     "name": "stdout",
     "output_type": "stream",
     "text": [
      "The total energy consumption is 11800 MWh\n"
     ]
    }
   ],
   "source": [
    "# calculate the total energy consumption\n",
    "total_consumption = np.sum(energy_consumption)\n",
    "print(f\"The total energy consumption is {total_consumption} MWh\")"
   ]
  },
  {
   "cell_type": "code",
   "execution_count": 4,
   "id": "ebc053af-9d5e-4490-9ab9-ef0ef5e46619",
   "metadata": {},
   "outputs": [
    {
     "name": "stdout",
     "output_type": "stream",
     "text": [
      "The mean energy consumption is 2360.0 MWh\n"
     ]
    }
   ],
   "source": [
    "# calculate the mean energy consumption\n",
    "mean_consumption = np.mean(energy_consumption)\n",
    "print(f\"The mean energy consumption is {mean_consumption} MWh\")"
   ]
  },
  {
   "cell_type": "code",
   "execution_count": 5,
   "id": "6ebec984-1d78-485b-9349-b3e9b45b75ff",
   "metadata": {},
   "outputs": [
    {
     "data": {
      "text/plain": [
       "np.float64(781.2809993849844)"
      ]
     },
     "execution_count": 5,
     "metadata": {},
     "output_type": "execute_result"
    }
   ],
   "source": [
    "# calculate the standard deviation for energy consumption\n",
    "std_ec = np.std(energy_consumption)\n",
    "std_ec"
   ]
  },
  {
   "cell_type": "code",
   "execution_count": 6,
   "id": "599aad63-714c-4618-a603-80d302f760f9",
   "metadata": {},
   "outputs": [
    {
     "name": "stdout",
     "output_type": "stream",
     "text": [
      "The standard deviation of energy consumption is 781.2809993849844 MWh\n"
     ]
    }
   ],
   "source": [
    "print(f\"The standard deviation of energy consumption is {std_ec} MWh\")"
   ]
  },
  {
   "cell_type": "code",
   "execution_count": 7,
   "id": "fb87e06d-6d83-4f55-88a2-00c81f8143a9",
   "metadata": {},
   "outputs": [
    {
     "name": "stdout",
     "output_type": "stream",
     "text": [
      "Reshape array is\n",
      "[[1200]\n",
      " [3400]\n",
      " [2900]\n",
      " [1800]\n",
      " [2500]]\n"
     ]
    }
   ],
   "source": [
    "# Reshape the array \n",
    "reshaped_array = energy_consumption.reshape((5,1))\n",
    "print(\"Reshape array is\")\n",
    "print(reshaped_array)"
   ]
  },
  {
   "cell_type": "markdown",
   "id": "98f595a7-cbb5-40e1-af6d-469ed3b1e9a2",
   "metadata": {},
   "source": [
    "# Data Preprocessing"
   ]
  },
  {
   "cell_type": "code",
   "execution_count": 18,
   "id": "ef2a2753-622c-43a0-9639-1ba7307071b2",
   "metadata": {},
   "outputs": [],
   "source": [
    "import pandas as pd\n",
    "import numpy as np\n",
    "# sample data with missing values\n",
    "data= {\n",
    "    \"Energy Source\":[\"Solar\",\"Wind\",\"Hydropower\",\"Geothermal\",\"Biomass\",\"Nuclear\"],\n",
    "    \"Energy Consumption (MWh)\":[1200,np.nan,2900,np.nan,2500,3200],\n",
    "    \"Cost (millions $)\":[200,400,np.nan,150,250,np.nan]\n",
    "}"
   ]
  },
  {
   "cell_type": "code",
   "execution_count": 19,
   "id": "ea4516b5-2c5f-4271-80ff-10459f9c05ea",
   "metadata": {},
   "outputs": [
    {
     "name": "stdout",
     "output_type": "stream",
     "text": [
      "  Energy Source  Energy Consumption (MWh)  Cost (millions $)\n",
      "0         Solar                    1200.0              200.0\n",
      "1          Wind                       NaN              400.0\n",
      "2    Hydropower                    2900.0                NaN\n",
      "3    Geothermal                       NaN              150.0\n",
      "4       Biomass                    2500.0              250.0\n",
      "5       Nuclear                    3200.0                NaN\n"
     ]
    }
   ],
   "source": [
    "# Create a dataframe\n",
    "df= pd.DataFrame(data)\n",
    "print(df)"
   ]
  },
  {
   "cell_type": "markdown",
   "id": "425581b2-6f77-4b14-929e-a77065d9fc58",
   "metadata": {},
   "source": [
    "## Handle the missing values:\n",
    "-Removing (drop) mv\n",
    "-impute (fill) mv-mean"
   ]
  },
  {
   "cell_type": "code",
   "execution_count": 20,
   "id": "eebbe70f-43f3-44c5-8c8f-d594ea1932a4",
   "metadata": {},
   "outputs": [
    {
     "data": {
      "text/html": [
       "<div>\n",
       "<style scoped>\n",
       "    .dataframe tbody tr th:only-of-type {\n",
       "        vertical-align: middle;\n",
       "    }\n",
       "\n",
       "    .dataframe tbody tr th {\n",
       "        vertical-align: top;\n",
       "    }\n",
       "\n",
       "    .dataframe thead th {\n",
       "        text-align: right;\n",
       "    }\n",
       "</style>\n",
       "<table border=\"1\" class=\"dataframe\">\n",
       "  <thead>\n",
       "    <tr style=\"text-align: right;\">\n",
       "      <th></th>\n",
       "      <th>Energy Source</th>\n",
       "      <th>Energy Consumption (MWh)</th>\n",
       "      <th>Cost (millions $)</th>\n",
       "    </tr>\n",
       "  </thead>\n",
       "  <tbody>\n",
       "    <tr>\n",
       "      <th>0</th>\n",
       "      <td>Solar</td>\n",
       "      <td>1200.0</td>\n",
       "      <td>200.0</td>\n",
       "    </tr>\n",
       "    <tr>\n",
       "      <th>4</th>\n",
       "      <td>Biomass</td>\n",
       "      <td>2500.0</td>\n",
       "      <td>250.0</td>\n",
       "    </tr>\n",
       "  </tbody>\n",
       "</table>\n",
       "</div>"
      ],
      "text/plain": [
       "  Energy Source  Energy Consumption (MWh)  Cost (millions $)\n",
       "0         Solar                    1200.0              200.0\n",
       "4       Biomass                    2500.0              250.0"
      ]
     },
     "execution_count": 20,
     "metadata": {},
     "output_type": "execute_result"
    }
   ],
   "source": [
    "# Remove rows with missing value \n",
    "cleaned_df=df.dropna()\n",
    "cleaned_df"
   ]
  },
  {
   "cell_type": "markdown",
   "id": "d745027c-ef3e-4c2d-99e2-aa759f8c2a70",
   "metadata": {},
   "source": [
    "## Imputation to add or fill\n",
    "-- With mean\n",
    "__ forward/backward filling"
   ]
  },
  {
   "cell_type": "code",
   "execution_count": 22,
   "id": "d86bbaa1-79e6-4246-a94d-eb4b7f3eae22",
   "metadata": {},
   "outputs": [
    {
     "name": "stderr",
     "output_type": "stream",
     "text": [
      "C:\\Users\\myahi_\\AppData\\Local\\Temp\\ipykernel_15292\\3393485841.py:2: FutureWarning: A value is trying to be set on a copy of a DataFrame or Series through chained assignment using an inplace method.\n",
      "The behavior will change in pandas 3.0. This inplace method will never work because the intermediate object on which we are setting values always behaves as a copy.\n",
      "\n",
      "For example, when doing 'df[col].method(value, inplace=True)', try using 'df.method({col: value}, inplace=True)' or df[col] = df[col].method(value) instead, to perform the operation inplace on the original object.\n",
      "\n",
      "\n",
      "  df[\"Energy Consumption (MWh)\"].fillna(df[\"Energy Consumption (MWh)\"].mean(),inplace=True)\n",
      "C:\\Users\\myahi_\\AppData\\Local\\Temp\\ipykernel_15292\\3393485841.py:3: FutureWarning: A value is trying to be set on a copy of a DataFrame or Series through chained assignment using an inplace method.\n",
      "The behavior will change in pandas 3.0. This inplace method will never work because the intermediate object on which we are setting values always behaves as a copy.\n",
      "\n",
      "For example, when doing 'df[col].method(value, inplace=True)', try using 'df.method({col: value}, inplace=True)' or df[col] = df[col].method(value) instead, to perform the operation inplace on the original object.\n",
      "\n",
      "\n",
      "  df[\"Cost (millions $)\"].fillna(df[\"Cost (millions $)\"].mean(),inplace=True)\n"
     ]
    },
    {
     "data": {
      "text/html": [
       "<div>\n",
       "<style scoped>\n",
       "    .dataframe tbody tr th:only-of-type {\n",
       "        vertical-align: middle;\n",
       "    }\n",
       "\n",
       "    .dataframe tbody tr th {\n",
       "        vertical-align: top;\n",
       "    }\n",
       "\n",
       "    .dataframe thead th {\n",
       "        text-align: right;\n",
       "    }\n",
       "</style>\n",
       "<table border=\"1\" class=\"dataframe\">\n",
       "  <thead>\n",
       "    <tr style=\"text-align: right;\">\n",
       "      <th></th>\n",
       "      <th>Energy Source</th>\n",
       "      <th>Energy Consumption (MWh)</th>\n",
       "      <th>Cost (millions $)</th>\n",
       "    </tr>\n",
       "  </thead>\n",
       "  <tbody>\n",
       "    <tr>\n",
       "      <th>0</th>\n",
       "      <td>Solar</td>\n",
       "      <td>1200.0</td>\n",
       "      <td>200.0</td>\n",
       "    </tr>\n",
       "    <tr>\n",
       "      <th>1</th>\n",
       "      <td>Wind</td>\n",
       "      <td>250.0</td>\n",
       "      <td>400.0</td>\n",
       "    </tr>\n",
       "    <tr>\n",
       "      <th>2</th>\n",
       "      <td>Hydropower</td>\n",
       "      <td>2900.0</td>\n",
       "      <td>250.0</td>\n",
       "    </tr>\n",
       "    <tr>\n",
       "      <th>3</th>\n",
       "      <td>Geothermal</td>\n",
       "      <td>250.0</td>\n",
       "      <td>150.0</td>\n",
       "    </tr>\n",
       "    <tr>\n",
       "      <th>4</th>\n",
       "      <td>Biomass</td>\n",
       "      <td>2500.0</td>\n",
       "      <td>250.0</td>\n",
       "    </tr>\n",
       "    <tr>\n",
       "      <th>5</th>\n",
       "      <td>Nuclear</td>\n",
       "      <td>3200.0</td>\n",
       "      <td>250.0</td>\n",
       "    </tr>\n",
       "  </tbody>\n",
       "</table>\n",
       "</div>"
      ],
      "text/plain": [
       "  Energy Source  Energy Consumption (MWh)  Cost (millions $)\n",
       "0         Solar                    1200.0              200.0\n",
       "1          Wind                     250.0              400.0\n",
       "2    Hydropower                    2900.0              250.0\n",
       "3    Geothermal                     250.0              150.0\n",
       "4       Biomass                    2500.0              250.0\n",
       "5       Nuclear                    3200.0              250.0"
      ]
     },
     "execution_count": 22,
     "metadata": {},
     "output_type": "execute_result"
    }
   ],
   "source": [
    "#impute missing values with the mean for energy consumption\n",
    "df[\"Energy Consumption (MWh)\"].fillna(df[\"Energy Consumption (MWh)\"].mean(),inplace=True)\n",
    "df[\"Cost (millions $)\"].fillna(df[\"Cost (millions $)\"].mean(),inplace=True)\n",
    "df"
   ]
  },
  {
   "cell_type": "code",
   "execution_count": 23,
   "id": "9d5f0ba5-befe-46e8-bbb4-15b2bf6a0807",
   "metadata": {},
   "outputs": [
    {
     "name": "stderr",
     "output_type": "stream",
     "text": [
      "C:\\Users\\myahi_\\AppData\\Local\\Temp\\ipykernel_15292\\1739668566.py:2: FutureWarning: DataFrame.fillna with 'method' is deprecated and will raise in a future version. Use obj.ffill() or obj.bfill() instead.\n",
      "  ff_df = df.fillna(method=\"ffill\")\n"
     ]
    },
    {
     "data": {
      "text/html": [
       "<div>\n",
       "<style scoped>\n",
       "    .dataframe tbody tr th:only-of-type {\n",
       "        vertical-align: middle;\n",
       "    }\n",
       "\n",
       "    .dataframe tbody tr th {\n",
       "        vertical-align: top;\n",
       "    }\n",
       "\n",
       "    .dataframe thead th {\n",
       "        text-align: right;\n",
       "    }\n",
       "</style>\n",
       "<table border=\"1\" class=\"dataframe\">\n",
       "  <thead>\n",
       "    <tr style=\"text-align: right;\">\n",
       "      <th></th>\n",
       "      <th>Energy Source</th>\n",
       "      <th>Energy Consumption (MWh)</th>\n",
       "      <th>Cost (millions $)</th>\n",
       "    </tr>\n",
       "  </thead>\n",
       "  <tbody>\n",
       "    <tr>\n",
       "      <th>0</th>\n",
       "      <td>Solar</td>\n",
       "      <td>1200.0</td>\n",
       "      <td>200.0</td>\n",
       "    </tr>\n",
       "    <tr>\n",
       "      <th>1</th>\n",
       "      <td>Wind</td>\n",
       "      <td>250.0</td>\n",
       "      <td>400.0</td>\n",
       "    </tr>\n",
       "    <tr>\n",
       "      <th>2</th>\n",
       "      <td>Hydropower</td>\n",
       "      <td>2900.0</td>\n",
       "      <td>250.0</td>\n",
       "    </tr>\n",
       "    <tr>\n",
       "      <th>3</th>\n",
       "      <td>Geothermal</td>\n",
       "      <td>250.0</td>\n",
       "      <td>150.0</td>\n",
       "    </tr>\n",
       "    <tr>\n",
       "      <th>4</th>\n",
       "      <td>Biomass</td>\n",
       "      <td>2500.0</td>\n",
       "      <td>250.0</td>\n",
       "    </tr>\n",
       "    <tr>\n",
       "      <th>5</th>\n",
       "      <td>Nuclear</td>\n",
       "      <td>3200.0</td>\n",
       "      <td>250.0</td>\n",
       "    </tr>\n",
       "  </tbody>\n",
       "</table>\n",
       "</div>"
      ],
      "text/plain": [
       "  Energy Source  Energy Consumption (MWh)  Cost (millions $)\n",
       "0         Solar                    1200.0              200.0\n",
       "1          Wind                     250.0              400.0\n",
       "2    Hydropower                    2900.0              250.0\n",
       "3    Geothermal                     250.0              150.0\n",
       "4       Biomass                    2500.0              250.0\n",
       "5       Nuclear                    3200.0              250.0"
      ]
     },
     "execution_count": 23,
     "metadata": {},
     "output_type": "execute_result"
    }
   ],
   "source": [
    "# Forward filling missinig values\n",
    "ff_df = df.fillna(method=\"ffill\")\n",
    "ff_df"
   ]
  },
  {
   "cell_type": "code",
   "execution_count": 24,
   "id": "a6fa7b08-ec2c-4856-89d7-f7e4b19a3975",
   "metadata": {},
   "outputs": [
    {
     "name": "stdout",
     "output_type": "stream",
     "text": [
      "Collecting scikit-learnNote: you may need to restart the kernel to use updated packages.\n",
      "\n",
      "  Downloading scikit_learn-1.6.1-cp312-cp312-win_amd64.whl.metadata (15 kB)\n",
      "Requirement already satisfied: numpy>=1.19.5 in c:\\users\\myahi_\\appdata\\local\\programs\\python\\python312\\lib\\site-packages (from scikit-learn) (2.2.2)\n",
      "Collecting scipy>=1.6.0 (from scikit-learn)\n",
      "  Downloading scipy-1.15.1-cp312-cp312-win_amd64.whl.metadata (60 kB)\n",
      "Collecting joblib>=1.2.0 (from scikit-learn)\n",
      "  Using cached joblib-1.4.2-py3-none-any.whl.metadata (5.4 kB)\n",
      "Collecting threadpoolctl>=3.1.0 (from scikit-learn)\n",
      "  Using cached threadpoolctl-3.5.0-py3-none-any.whl.metadata (13 kB)\n",
      "Downloading scikit_learn-1.6.1-cp312-cp312-win_amd64.whl (11.1 MB)\n",
      "   ---------------------------------------- 0.0/11.1 MB ? eta -:--:--\n",
      "   - -------------------------------------- 0.5/11.1 MB 8.2 MB/s eta 0:00:02\n",
      "   --- ------------------------------------ 1.0/11.1 MB 3.0 MB/s eta 0:00:04\n",
      "   ----- ---------------------------------- 1.6/11.1 MB 2.5 MB/s eta 0:00:04\n",
      "   ------ --------------------------------- 1.8/11.1 MB 2.2 MB/s eta 0:00:05\n",
      "   ------- -------------------------------- 2.1/11.1 MB 1.9 MB/s eta 0:00:05\n",
      "   ------- -------------------------------- 2.1/11.1 MB 1.9 MB/s eta 0:00:05\n",
      "   ------- -------------------------------- 2.1/11.1 MB 1.9 MB/s eta 0:00:05\n",
      "   --------- ------------------------------ 2.6/11.1 MB 1.4 MB/s eta 0:00:06\n",
      "   ---------- ----------------------------- 2.9/11.1 MB 1.4 MB/s eta 0:00:06\n",
      "   ----------- ---------------------------- 3.1/11.1 MB 1.4 MB/s eta 0:00:06\n",
      "   ----------- ---------------------------- 3.1/11.1 MB 1.4 MB/s eta 0:00:06\n",
      "   ------------ --------------------------- 3.4/11.1 MB 1.4 MB/s eta 0:00:06\n",
      "   ------------- -------------------------- 3.7/11.1 MB 1.3 MB/s eta 0:00:06\n",
      "   ------------- -------------------------- 3.7/11.1 MB 1.3 MB/s eta 0:00:06\n",
      "   --------------- ------------------------ 4.2/11.1 MB 1.3 MB/s eta 0:00:06\n",
      "   ---------------- ----------------------- 4.5/11.1 MB 1.3 MB/s eta 0:00:06\n",
      "   ---------------- ----------------------- 4.5/11.1 MB 1.3 MB/s eta 0:00:06\n",
      "   ---------------- ----------------------- 4.7/11.1 MB 1.2 MB/s eta 0:00:06\n",
      "   ---------------- ----------------------- 4.7/11.1 MB 1.2 MB/s eta 0:00:06\n",
      "   ----------------- ---------------------- 5.0/11.1 MB 1.2 MB/s eta 0:00:06\n",
      "   ------------------ --------------------- 5.2/11.1 MB 1.2 MB/s eta 0:00:06\n",
      "   ------------------- -------------------- 5.5/11.1 MB 1.2 MB/s eta 0:00:05\n",
      "   -------------------- ------------------- 5.8/11.1 MB 1.2 MB/s eta 0:00:05\n",
      "   ---------------------- ----------------- 6.3/11.1 MB 1.2 MB/s eta 0:00:04\n",
      "   ---------------------- ----------------- 6.3/11.1 MB 1.2 MB/s eta 0:00:04\n",
      "   ---------------------- ----------------- 6.3/11.1 MB 1.2 MB/s eta 0:00:04\n",
      "   ----------------------- ---------------- 6.6/11.1 MB 1.2 MB/s eta 0:00:04\n",
      "   ----------------------- ---------------- 6.6/11.1 MB 1.2 MB/s eta 0:00:04\n",
      "   ----------------------- ---------------- 6.6/11.1 MB 1.2 MB/s eta 0:00:04\n",
      "   ------------------------ --------------- 6.8/11.1 MB 1.1 MB/s eta 0:00:04\n",
      "   ------------------------- -------------- 7.1/11.1 MB 1.1 MB/s eta 0:00:04\n",
      "   ------------------------- -------------- 7.1/11.1 MB 1.1 MB/s eta 0:00:04\n",
      "   -------------------------- ------------- 7.3/11.1 MB 1.1 MB/s eta 0:00:04\n",
      "   -------------------------- ------------- 7.3/11.1 MB 1.1 MB/s eta 0:00:04\n",
      "   --------------------------- ------------ 7.6/11.1 MB 1.0 MB/s eta 0:00:04\n",
      "   ---------------------------- ----------- 7.9/11.1 MB 1.0 MB/s eta 0:00:04\n",
      "   ----------------------------- ---------- 8.1/11.1 MB 1.0 MB/s eta 0:00:03\n",
      "   ------------------------------ --------- 8.4/11.1 MB 1.1 MB/s eta 0:00:03\n",
      "   ------------------------------- -------- 8.7/11.1 MB 1.1 MB/s eta 0:00:03\n",
      "   ------------------------------- -------- 8.7/11.1 MB 1.1 MB/s eta 0:00:03\n",
      "   --------------------------------- ------ 9.2/11.1 MB 1.0 MB/s eta 0:00:02\n",
      "   --------------------------------- ------ 9.2/11.1 MB 1.0 MB/s eta 0:00:02\n",
      "   --------------------------------- ------ 9.4/11.1 MB 1.0 MB/s eta 0:00:02\n",
      "   ----------------------------------- ---- 10.0/11.1 MB 1.1 MB/s eta 0:00:02\n",
      "   ----------------------------------- ---- 10.0/11.1 MB 1.1 MB/s eta 0:00:02\n",
      "   ------------------------------------- -- 10.5/11.1 MB 1.1 MB/s eta 0:00:01\n",
      "   ------------------------------------- -- 10.5/11.1 MB 1.1 MB/s eta 0:00:01\n",
      "   -------------------------------------- - 10.7/11.1 MB 1.1 MB/s eta 0:00:01\n",
      "   ---------------------------------------  11.0/11.1 MB 1.1 MB/s eta 0:00:01\n",
      "   ---------------------------------------- 11.1/11.1 MB 1.1 MB/s eta 0:00:00\n",
      "Using cached joblib-1.4.2-py3-none-any.whl (301 kB)\n",
      "Downloading scipy-1.15.1-cp312-cp312-win_amd64.whl (43.6 MB)\n",
      "   ---------------------------------------- 0.0/43.6 MB ? eta -:--:--\n",
      "   ---------------------------------------- 0.0/43.6 MB ? eta -:--:--\n",
      "   ---------------------------------------- 0.5/43.6 MB 2.4 MB/s eta 0:00:18\n",
      "    --------------------------------------- 0.8/43.6 MB 2.2 MB/s eta 0:00:20\n",
      "   - -------------------------------------- 1.3/43.6 MB 2.3 MB/s eta 0:00:19\n",
      "   - -------------------------------------- 1.3/43.6 MB 2.3 MB/s eta 0:00:19\n",
      "   - -------------------------------------- 1.6/43.6 MB 1.5 MB/s eta 0:00:29\n",
      "   - -------------------------------------- 1.8/43.6 MB 1.4 MB/s eta 0:00:31\n",
      "   - -------------------------------------- 1.8/43.6 MB 1.4 MB/s eta 0:00:31\n",
      "   - -------------------------------------- 2.1/43.6 MB 1.2 MB/s eta 0:00:34\n",
      "   -- ------------------------------------- 2.4/43.6 MB 1.3 MB/s eta 0:00:32\n",
      "   -- ------------------------------------- 2.6/43.6 MB 1.3 MB/s eta 0:00:32\n",
      "   -- ------------------------------------- 2.9/43.6 MB 1.3 MB/s eta 0:00:32\n",
      "   -- ------------------------------------- 3.1/43.6 MB 1.3 MB/s eta 0:00:32\n",
      "   --- ------------------------------------ 3.4/43.6 MB 1.2 MB/s eta 0:00:33\n",
      "   --- ------------------------------------ 3.7/43.6 MB 1.3 MB/s eta 0:00:32\n",
      "   --- ------------------------------------ 3.9/43.6 MB 1.3 MB/s eta 0:00:32\n",
      "   --- ------------------------------------ 4.2/43.6 MB 1.3 MB/s eta 0:00:32\n",
      "   ---- ----------------------------------- 4.5/43.6 MB 1.2 MB/s eta 0:00:33\n",
      "   ---- ----------------------------------- 4.5/43.6 MB 1.2 MB/s eta 0:00:33\n",
      "   ---- ----------------------------------- 4.5/43.6 MB 1.2 MB/s eta 0:00:33\n",
      "   ---- ----------------------------------- 4.7/43.6 MB 1.1 MB/s eta 0:00:35\n",
      "   ---- ----------------------------------- 5.0/43.6 MB 1.1 MB/s eta 0:00:35\n",
      "   ---- ----------------------------------- 5.2/43.6 MB 1.1 MB/s eta 0:00:35\n",
      "   ---- ----------------------------------- 5.2/43.6 MB 1.1 MB/s eta 0:00:35\n",
      "   ---- ----------------------------------- 5.2/43.6 MB 1.1 MB/s eta 0:00:35\n",
      "   ---- ----------------------------------- 5.2/43.6 MB 1.1 MB/s eta 0:00:35\n",
      "   ----- ---------------------------------- 5.8/43.6 MB 1.0 MB/s eta 0:00:37\n",
      "   ----- ---------------------------------- 5.8/43.6 MB 1.0 MB/s eta 0:00:37\n",
      "   ----- ---------------------------------- 6.0/43.6 MB 1.0 MB/s eta 0:00:37\n",
      "   ----- ---------------------------------- 6.3/43.6 MB 1.0 MB/s eta 0:00:37\n",
      "   ------ --------------------------------- 6.6/43.6 MB 1.0 MB/s eta 0:00:36\n",
      "   ------ --------------------------------- 6.6/43.6 MB 1.0 MB/s eta 0:00:36\n",
      "   ------ --------------------------------- 7.1/43.6 MB 1.0 MB/s eta 0:00:35\n",
      "   ------ --------------------------------- 7.3/43.6 MB 1.0 MB/s eta 0:00:35\n",
      "   ------ --------------------------------- 7.6/43.6 MB 1.1 MB/s eta 0:00:34\n",
      "   ------- -------------------------------- 7.9/43.6 MB 1.1 MB/s eta 0:00:34\n",
      "   ------- -------------------------------- 8.1/43.6 MB 1.1 MB/s eta 0:00:34\n",
      "   ------- -------------------------------- 8.4/43.6 MB 1.1 MB/s eta 0:00:33\n",
      "   ------- -------------------------------- 8.4/43.6 MB 1.1 MB/s eta 0:00:33\n",
      "   ------- -------------------------------- 8.7/43.6 MB 1.1 MB/s eta 0:00:33\n",
      "   -------- ------------------------------- 8.9/43.6 MB 1.1 MB/s eta 0:00:33\n",
      "   -------- ------------------------------- 9.4/43.6 MB 1.1 MB/s eta 0:00:32\n",
      "   -------- ------------------------------- 9.4/43.6 MB 1.1 MB/s eta 0:00:32\n",
      "   -------- ------------------------------- 9.7/43.6 MB 1.1 MB/s eta 0:00:32\n",
      "   --------- ------------------------------ 10.2/43.6 MB 1.1 MB/s eta 0:00:31\n",
      "   --------- ------------------------------ 10.2/43.6 MB 1.1 MB/s eta 0:00:31\n",
      "   --------- ------------------------------ 10.5/43.6 MB 1.1 MB/s eta 0:00:31\n",
      "   --------- ------------------------------ 10.7/43.6 MB 1.1 MB/s eta 0:00:30\n",
      "   ---------- ----------------------------- 11.3/43.6 MB 1.1 MB/s eta 0:00:29\n",
      "   ---------- ----------------------------- 11.3/43.6 MB 1.1 MB/s eta 0:00:29\n",
      "   ---------- ----------------------------- 11.5/43.6 MB 1.1 MB/s eta 0:00:30\n",
      "   ---------- ----------------------------- 11.8/43.6 MB 1.1 MB/s eta 0:00:29\n",
      "   ----------- ---------------------------- 12.1/43.6 MB 1.1 MB/s eta 0:00:29\n",
      "   ----------- ---------------------------- 12.3/43.6 MB 1.1 MB/s eta 0:00:29\n",
      "   ----------- ---------------------------- 12.6/43.6 MB 1.1 MB/s eta 0:00:29\n",
      "   ----------- ---------------------------- 12.8/43.6 MB 1.1 MB/s eta 0:00:28\n",
      "   ------------ --------------------------- 13.1/43.6 MB 1.1 MB/s eta 0:00:28\n",
      "   ------------ --------------------------- 13.4/43.6 MB 1.1 MB/s eta 0:00:28\n",
      "   ------------ --------------------------- 13.4/43.6 MB 1.1 MB/s eta 0:00:28\n",
      "   ------------ --------------------------- 13.4/43.6 MB 1.1 MB/s eta 0:00:28\n",
      "   ------------ --------------------------- 13.9/43.6 MB 1.1 MB/s eta 0:00:28\n",
      "   ------------ --------------------------- 13.9/43.6 MB 1.1 MB/s eta 0:00:28\n",
      "   ------------ --------------------------- 14.2/43.6 MB 1.1 MB/s eta 0:00:28\n",
      "   ------------ --------------------------- 14.2/43.6 MB 1.1 MB/s eta 0:00:28\n",
      "   ------------- -------------------------- 14.4/43.6 MB 1.1 MB/s eta 0:00:27\n",
      "   ------------- -------------------------- 14.7/43.6 MB 1.1 MB/s eta 0:00:27\n",
      "   ------------- -------------------------- 14.9/43.6 MB 1.1 MB/s eta 0:00:27\n",
      "   ------------- -------------------------- 15.2/43.6 MB 1.1 MB/s eta 0:00:27\n",
      "   -------------- ------------------------- 15.5/43.6 MB 1.1 MB/s eta 0:00:27\n",
      "   -------------- ------------------------- 15.7/43.6 MB 1.1 MB/s eta 0:00:26\n",
      "   -------------- ------------------------- 16.0/43.6 MB 1.1 MB/s eta 0:00:26\n",
      "   -------------- ------------------------- 16.3/43.6 MB 1.1 MB/s eta 0:00:25\n",
      "   --------------- ------------------------ 16.5/43.6 MB 1.1 MB/s eta 0:00:25\n",
      "   --------------- ------------------------ 17.0/43.6 MB 1.1 MB/s eta 0:00:25\n",
      "   --------------- ------------------------ 17.3/43.6 MB 1.1 MB/s eta 0:00:24\n",
      "   ---------------- ----------------------- 17.6/43.6 MB 1.1 MB/s eta 0:00:24\n",
      "   ---------------- ----------------------- 17.8/43.6 MB 1.1 MB/s eta 0:00:24\n",
      "   ---------------- ----------------------- 17.8/43.6 MB 1.1 MB/s eta 0:00:24\n",
      "   ---------------- ----------------------- 18.4/43.6 MB 1.1 MB/s eta 0:00:23\n",
      "   ----------------- ---------------------- 18.6/43.6 MB 1.1 MB/s eta 0:00:23\n",
      "   ----------------- ---------------------- 18.9/43.6 MB 1.1 MB/s eta 0:00:22\n",
      "   ----------------- ---------------------- 19.1/43.6 MB 1.1 MB/s eta 0:00:22\n",
      "   ----------------- ---------------------- 19.4/43.6 MB 1.1 MB/s eta 0:00:22\n",
      "   ------------------ --------------------- 19.9/43.6 MB 1.1 MB/s eta 0:00:21\n",
      "   ------------------ --------------------- 19.9/43.6 MB 1.1 MB/s eta 0:00:21\n",
      "   ------------------ --------------------- 20.2/43.6 MB 1.1 MB/s eta 0:00:21\n",
      "   ------------------ --------------------- 20.4/43.6 MB 1.1 MB/s eta 0:00:21\n",
      "   ------------------ --------------------- 20.7/43.6 MB 1.1 MB/s eta 0:00:21\n",
      "   ------------------- -------------------- 21.0/43.6 MB 1.1 MB/s eta 0:00:20\n",
      "   ------------------- -------------------- 21.0/43.6 MB 1.1 MB/s eta 0:00:20\n",
      "   ------------------- -------------------- 21.5/43.6 MB 1.1 MB/s eta 0:00:20\n",
      "   ------------------- -------------------- 21.8/43.6 MB 1.1 MB/s eta 0:00:20\n",
      "   ------------------- -------------------- 21.8/43.6 MB 1.1 MB/s eta 0:00:20\n",
      "   -------------------- ------------------- 22.3/43.6 MB 1.1 MB/s eta 0:00:19\n",
      "   -------------------- ------------------- 22.3/43.6 MB 1.1 MB/s eta 0:00:19\n",
      "   -------------------- ------------------- 22.5/43.6 MB 1.1 MB/s eta 0:00:19\n",
      "   -------------------- ------------------- 22.8/43.6 MB 1.1 MB/s eta 0:00:19\n",
      "   --------------------- ------------------ 23.1/43.6 MB 1.1 MB/s eta 0:00:19\n",
      "   --------------------- ------------------ 23.3/43.6 MB 1.1 MB/s eta 0:00:18\n",
      "   --------------------- ------------------ 23.6/43.6 MB 1.1 MB/s eta 0:00:18\n",
      "   --------------------- ------------------ 23.9/43.6 MB 1.1 MB/s eta 0:00:18\n",
      "   ---------------------- ----------------- 24.1/43.6 MB 1.1 MB/s eta 0:00:18\n",
      "   ---------------------- ----------------- 24.4/43.6 MB 1.1 MB/s eta 0:00:17\n",
      "   ---------------------- ----------------- 24.6/43.6 MB 1.1 MB/s eta 0:00:17\n",
      "   ---------------------- ----------------- 24.6/43.6 MB 1.1 MB/s eta 0:00:17\n",
      "   ---------------------- ----------------- 24.9/43.6 MB 1.1 MB/s eta 0:00:17\n",
      "   ----------------------- ---------------- 25.2/43.6 MB 1.1 MB/s eta 0:00:17\n",
      "   ----------------------- ---------------- 25.2/43.6 MB 1.1 MB/s eta 0:00:17\n",
      "   ----------------------- ---------------- 25.4/43.6 MB 1.1 MB/s eta 0:00:17\n",
      "   ----------------------- ---------------- 25.7/43.6 MB 1.1 MB/s eta 0:00:16\n",
      "   ----------------------- ---------------- 26.0/43.6 MB 1.1 MB/s eta 0:00:16\n",
      "   ------------------------ --------------- 26.2/43.6 MB 1.1 MB/s eta 0:00:16\n",
      "   ------------------------ --------------- 26.5/43.6 MB 1.1 MB/s eta 0:00:16\n",
      "   ------------------------ --------------- 26.7/43.6 MB 1.1 MB/s eta 0:00:15\n",
      "   ------------------------ --------------- 27.0/43.6 MB 1.1 MB/s eta 0:00:15\n",
      "   ------------------------ --------------- 27.3/43.6 MB 1.1 MB/s eta 0:00:15\n",
      "   ------------------------- -------------- 27.5/43.6 MB 1.1 MB/s eta 0:00:15\n",
      "   ------------------------- -------------- 27.5/43.6 MB 1.1 MB/s eta 0:00:15\n",
      "   ------------------------- -------------- 27.8/43.6 MB 1.1 MB/s eta 0:00:15\n",
      "   ------------------------- -------------- 27.8/43.6 MB 1.1 MB/s eta 0:00:15\n",
      "   ------------------------- -------------- 27.8/43.6 MB 1.1 MB/s eta 0:00:15\n",
      "   ------------------------- -------------- 28.0/43.6 MB 1.1 MB/s eta 0:00:15\n",
      "   ------------------------- -------------- 28.0/43.6 MB 1.1 MB/s eta 0:00:15\n",
      "   ------------------------- -------------- 28.3/43.6 MB 1.1 MB/s eta 0:00:14\n",
      "   ------------------------- -------------- 28.3/43.6 MB 1.1 MB/s eta 0:00:14\n",
      "   ------------------------- -------------- 28.3/43.6 MB 1.1 MB/s eta 0:00:14\n",
      "   -------------------------- ------------- 28.6/43.6 MB 1.1 MB/s eta 0:00:14\n",
      "   -------------------------- ------------- 28.6/43.6 MB 1.1 MB/s eta 0:00:14\n",
      "   -------------------------- ------------- 28.6/43.6 MB 1.1 MB/s eta 0:00:14\n",
      "   -------------------------- ------------- 28.8/43.6 MB 1.1 MB/s eta 0:00:14\n",
      "   -------------------------- ------------- 28.8/43.6 MB 1.1 MB/s eta 0:00:14\n",
      "   -------------------------- ------------- 29.1/43.6 MB 1.1 MB/s eta 0:00:14\n",
      "   -------------------------- ------------- 29.1/43.6 MB 1.1 MB/s eta 0:00:14\n",
      "   -------------------------- ------------- 29.4/43.6 MB 1.1 MB/s eta 0:00:14\n",
      "   -------------------------- ------------- 29.4/43.6 MB 1.1 MB/s eta 0:00:14\n",
      "   -------------------------- ------------- 29.4/43.6 MB 1.1 MB/s eta 0:00:14\n",
      "   --------------------------- ------------ 29.6/43.6 MB 1.0 MB/s eta 0:00:14\n",
      "   --------------------------- ------------ 29.6/43.6 MB 1.0 MB/s eta 0:00:14\n",
      "   --------------------------- ------------ 29.9/43.6 MB 1.0 MB/s eta 0:00:14\n",
      "   --------------------------- ------------ 29.9/43.6 MB 1.0 MB/s eta 0:00:14\n",
      "   --------------------------- ------------ 29.9/43.6 MB 1.0 MB/s eta 0:00:14\n",
      "   --------------------------- ------------ 30.1/43.6 MB 1.0 MB/s eta 0:00:14\n",
      "   --------------------------- ------------ 30.4/43.6 MB 1.0 MB/s eta 0:00:13\n",
      "   --------------------------- ------------ 30.4/43.6 MB 1.0 MB/s eta 0:00:13\n",
      "   ---------------------------- ----------- 30.7/43.6 MB 1.0 MB/s eta 0:00:13\n",
      "   ---------------------------- ----------- 30.9/43.6 MB 1.0 MB/s eta 0:00:13\n",
      "   ---------------------------- ----------- 31.2/43.6 MB 1.0 MB/s eta 0:00:13\n",
      "   ---------------------------- ----------- 31.2/43.6 MB 1.0 MB/s eta 0:00:13\n",
      "   ---------------------------- ----------- 31.5/43.6 MB 1.0 MB/s eta 0:00:13\n",
      "   ----------------------------- ---------- 31.7/43.6 MB 1.0 MB/s eta 0:00:12\n",
      "   ----------------------------- ---------- 31.7/43.6 MB 1.0 MB/s eta 0:00:12\n",
      "   ----------------------------- ---------- 32.0/43.6 MB 1.0 MB/s eta 0:00:12\n",
      "   ----------------------------- ---------- 32.0/43.6 MB 1.0 MB/s eta 0:00:12\n",
      "   ----------------------------- ---------- 32.2/43.6 MB 991.0 kB/s eta 0:00:12\n",
      "   ----------------------------- ---------- 32.2/43.6 MB 991.0 kB/s eta 0:00:12\n",
      "   ----------------------------- ---------- 32.5/43.6 MB 980.7 kB/s eta 0:00:12\n",
      "   ----------------------------- ---------- 32.5/43.6 MB 980.7 kB/s eta 0:00:12\n",
      "   ----------------------------- ---------- 32.5/43.6 MB 980.7 kB/s eta 0:00:12\n",
      "   ------------------------------ --------- 32.8/43.6 MB 966.7 kB/s eta 0:00:12\n",
      "   ------------------------------ --------- 32.8/43.6 MB 966.7 kB/s eta 0:00:12\n",
      "   ------------------------------ --------- 33.0/43.6 MB 960.0 kB/s eta 0:00:12\n",
      "   ------------------------------ --------- 33.0/43.6 MB 960.0 kB/s eta 0:00:12\n",
      "   ------------------------------ --------- 33.3/43.6 MB 965.0 kB/s eta 0:00:11\n",
      "   ------------------------------ --------- 33.6/43.6 MB 962.7 kB/s eta 0:00:11\n",
      "   ------------------------------- -------- 33.8/43.6 MB 965.7 kB/s eta 0:00:11\n",
      "   ------------------------------- -------- 34.1/43.6 MB 968.3 kB/s eta 0:00:10\n",
      "   ------------------------------- -------- 34.1/43.6 MB 968.3 kB/s eta 0:00:10\n",
      "   ------------------------------- -------- 34.6/43.6 MB 984.3 kB/s eta 0:00:10\n",
      "   ------------------------------- -------- 34.6/43.6 MB 984.3 kB/s eta 0:00:10\n",
      "   ------------------------------- -------- 34.6/43.6 MB 984.3 kB/s eta 0:00:10\n",
      "   ------------------------------- -------- 34.9/43.6 MB 972.5 kB/s eta 0:00:10\n",
      "   ------------------------------- -------- 34.9/43.6 MB 972.5 kB/s eta 0:00:10\n",
      "   -------------------------------- ------- 35.1/43.6 MB 969.3 kB/s eta 0:00:09\n",
      "   -------------------------------- ------- 35.4/43.6 MB 965.2 kB/s eta 0:00:09\n",
      "   -------------------------------- ------- 35.4/43.6 MB 965.2 kB/s eta 0:00:09\n",
      "   -------------------------------- ------- 35.4/43.6 MB 965.2 kB/s eta 0:00:09\n",
      "   -------------------------------- ------- 35.7/43.6 MB 953.0 kB/s eta 0:00:09\n",
      "   -------------------------------- ------- 35.7/43.6 MB 953.0 kB/s eta 0:00:09\n",
      "   -------------------------------- ------- 35.9/43.6 MB 944.2 kB/s eta 0:00:09\n",
      "   -------------------------------- ------- 35.9/43.6 MB 944.2 kB/s eta 0:00:09\n",
      "   --------------------------------- ------ 36.2/43.6 MB 937.4 kB/s eta 0:00:08\n",
      "   --------------------------------- ------ 36.2/43.6 MB 937.4 kB/s eta 0:00:08\n",
      "   --------------------------------- ------ 36.2/43.6 MB 937.4 kB/s eta 0:00:08\n",
      "   --------------------------------- ------ 36.4/43.6 MB 923.8 kB/s eta 0:00:08\n",
      "   --------------------------------- ------ 36.4/43.6 MB 923.8 kB/s eta 0:00:08\n",
      "   --------------------------------- ------ 36.7/43.6 MB 910.2 kB/s eta 0:00:08\n",
      "   --------------------------------- ------ 36.7/43.6 MB 910.2 kB/s eta 0:00:08\n",
      "   --------------------------------- ------ 37.0/43.6 MB 901.4 kB/s eta 0:00:08\n",
      "   ---------------------------------- ----- 37.2/43.6 MB 899.3 kB/s eta 0:00:08\n",
      "   ---------------------------------- ----- 37.2/43.6 MB 899.3 kB/s eta 0:00:08\n",
      "   ---------------------------------- ----- 37.5/43.6 MB 894.1 kB/s eta 0:00:07\n",
      "   ---------------------------------- ----- 37.5/43.6 MB 894.1 kB/s eta 0:00:07\n",
      "   ---------------------------------- ----- 37.7/43.6 MB 884.4 kB/s eta 0:00:07\n",
      "   ---------------------------------- ----- 38.0/43.6 MB 886.2 kB/s eta 0:00:07\n",
      "   ---------------------------------- ----- 38.0/43.6 MB 886.2 kB/s eta 0:00:07\n",
      "   ----------------------------------- ---- 38.3/43.6 MB 874.7 kB/s eta 0:00:07\n",
      "   ----------------------------------- ---- 38.3/43.6 MB 874.7 kB/s eta 0:00:07\n",
      "   ----------------------------------- ---- 38.5/43.6 MB 875.2 kB/s eta 0:00:06\n",
      "   ----------------------------------- ---- 38.5/43.6 MB 875.2 kB/s eta 0:00:06\n",
      "   ----------------------------------- ---- 38.8/43.6 MB 869.2 kB/s eta 0:00:06\n",
      "   ----------------------------------- ---- 39.1/43.6 MB 866.0 kB/s eta 0:00:06\n",
      "   ----------------------------------- ---- 39.1/43.6 MB 866.0 kB/s eta 0:00:06\n",
      "   ------------------------------------ --- 39.3/43.6 MB 864.0 kB/s eta 0:00:05\n",
      "   ------------------------------------ --- 39.6/43.6 MB 867.8 kB/s eta 0:00:05\n",
      "   ------------------------------------ --- 39.6/43.6 MB 867.8 kB/s eta 0:00:05\n",
      "   ------------------------------------ --- 39.8/43.6 MB 864.4 kB/s eta 0:00:05\n",
      "   ------------------------------------ --- 40.1/43.6 MB 864.4 kB/s eta 0:00:05\n",
      "   ------------------------------------- -- 40.4/43.6 MB 866.0 kB/s eta 0:00:04\n",
      "   ------------------------------------- -- 40.6/43.6 MB 866.9 kB/s eta 0:00:04\n",
      "   ------------------------------------- -- 40.6/43.6 MB 866.9 kB/s eta 0:00:04\n",
      "   ------------------------------------- -- 40.9/43.6 MB 861.7 kB/s eta 0:00:04\n",
      "   ------------------------------------- -- 40.9/43.6 MB 861.7 kB/s eta 0:00:04\n",
      "   ------------------------------------- -- 41.2/43.6 MB 859.5 kB/s eta 0:00:03\n",
      "   ------------------------------------- -- 41.4/43.6 MB 850.7 kB/s eta 0:00:03\n",
      "   ------------------------------------- -- 41.4/43.6 MB 850.7 kB/s eta 0:00:03\n",
      "   -------------------------------------- - 41.7/43.6 MB 845.0 kB/s eta 0:00:03\n",
      "   -------------------------------------- - 41.9/43.6 MB 839.7 kB/s eta 0:00:02\n",
      "   -------------------------------------- - 41.9/43.6 MB 839.7 kB/s eta 0:00:02\n",
      "   -------------------------------------- - 42.2/43.6 MB 833.1 kB/s eta 0:00:02\n",
      "   -------------------------------------- - 42.5/43.6 MB 831.0 kB/s eta 0:00:02\n",
      "   -------------------------------------- - 42.5/43.6 MB 831.0 kB/s eta 0:00:02\n",
      "   -------------------------------------- - 42.5/43.6 MB 831.0 kB/s eta 0:00:02\n",
      "   ---------------------------------------  42.7/43.6 MB 813.1 kB/s eta 0:00:02\n",
      "   ---------------------------------------  42.7/43.6 MB 813.1 kB/s eta 0:00:02\n",
      "   ---------------------------------------  42.7/43.6 MB 813.1 kB/s eta 0:00:02\n",
      "   ---------------------------------------  43.0/43.6 MB 795.6 kB/s eta 0:00:01\n",
      "   ---------------------------------------  43.0/43.6 MB 795.6 kB/s eta 0:00:01\n",
      "   ---------------------------------------  43.3/43.6 MB 788.9 kB/s eta 0:00:01\n",
      "   ---------------------------------------  43.5/43.6 MB 783.0 kB/s eta 0:00:01\n",
      "   ---------------------------------------- 43.6/43.6 MB 782.0 kB/s eta 0:00:00\n",
      "Using cached threadpoolctl-3.5.0-py3-none-any.whl (18 kB)\n",
      "Installing collected packages: threadpoolctl, scipy, joblib, scikit-learn\n",
      "Successfully installed joblib-1.4.2 scikit-learn-1.6.1 scipy-1.15.1 threadpoolctl-3.5.0\n"
     ]
    }
   ],
   "source": [
    "pip install scikit-learn"
   ]
  },
  {
   "cell_type": "code",
   "execution_count": 26,
   "id": "1f1bd31a-fa45-4524-abb7-f34e77ac0552",
   "metadata": {},
   "outputs": [
    {
     "data": {
      "text/html": [
       "<div>\n",
       "<style scoped>\n",
       "    .dataframe tbody tr th:only-of-type {\n",
       "        vertical-align: middle;\n",
       "    }\n",
       "\n",
       "    .dataframe tbody tr th {\n",
       "        vertical-align: top;\n",
       "    }\n",
       "\n",
       "    .dataframe thead th {\n",
       "        text-align: right;\n",
       "    }\n",
       "</style>\n",
       "<table border=\"1\" class=\"dataframe\">\n",
       "  <thead>\n",
       "    <tr style=\"text-align: right;\">\n",
       "      <th></th>\n",
       "      <th>Energy Source</th>\n",
       "      <th>Energy Consumption (MWh)</th>\n",
       "      <th>Cost (millions $)</th>\n",
       "    </tr>\n",
       "  </thead>\n",
       "  <tbody>\n",
       "    <tr>\n",
       "      <th>0</th>\n",
       "      <td>Solar</td>\n",
       "      <td>0.322034</td>\n",
       "      <td>0.2</td>\n",
       "    </tr>\n",
       "    <tr>\n",
       "      <th>1</th>\n",
       "      <td>Wind</td>\n",
       "      <td>0.000000</td>\n",
       "      <td>1.0</td>\n",
       "    </tr>\n",
       "    <tr>\n",
       "      <th>2</th>\n",
       "      <td>Hydropower</td>\n",
       "      <td>0.898305</td>\n",
       "      <td>0.4</td>\n",
       "    </tr>\n",
       "    <tr>\n",
       "      <th>3</th>\n",
       "      <td>Geothermal</td>\n",
       "      <td>0.000000</td>\n",
       "      <td>0.0</td>\n",
       "    </tr>\n",
       "    <tr>\n",
       "      <th>4</th>\n",
       "      <td>Biomass</td>\n",
       "      <td>0.762712</td>\n",
       "      <td>0.4</td>\n",
       "    </tr>\n",
       "    <tr>\n",
       "      <th>5</th>\n",
       "      <td>Nuclear</td>\n",
       "      <td>1.000000</td>\n",
       "      <td>0.4</td>\n",
       "    </tr>\n",
       "  </tbody>\n",
       "</table>\n",
       "</div>"
      ],
      "text/plain": [
       "  Energy Source  Energy Consumption (MWh)  Cost (millions $)\n",
       "0         Solar                  0.322034                0.2\n",
       "1          Wind                  0.000000                1.0\n",
       "2    Hydropower                  0.898305                0.4\n",
       "3    Geothermal                  0.000000                0.0\n",
       "4       Biomass                  0.762712                0.4\n",
       "5       Nuclear                  1.000000                0.4"
      ]
     },
     "execution_count": 26,
     "metadata": {},
     "output_type": "execute_result"
    }
   ],
   "source": [
    "# Data Preprocessing  - Normalization\n",
    "from sklearn.preprocessing import MinMaxScaler\n",
    "\n",
    "scaler = MinMaxScaler()\n",
    "df[[\"Energy Consumption (MWh)\",\"Cost (millions $)\"]] = scaler.fit_transform(df[[\"Energy Consumption (MWh)\",\"Cost (millions $)\"]])\n",
    "df"
   ]
  },
  {
   "cell_type": "code",
   "execution_count": 27,
   "id": "ea31c1b1-1a22-4e78-ba65-af09c8cc3cd9",
   "metadata": {},
   "outputs": [
    {
     "data": {
      "text/html": [
       "<div>\n",
       "<style scoped>\n",
       "    .dataframe tbody tr th:only-of-type {\n",
       "        vertical-align: middle;\n",
       "    }\n",
       "\n",
       "    .dataframe tbody tr th {\n",
       "        vertical-align: top;\n",
       "    }\n",
       "\n",
       "    .dataframe thead th {\n",
       "        text-align: right;\n",
       "    }\n",
       "</style>\n",
       "<table border=\"1\" class=\"dataframe\">\n",
       "  <thead>\n",
       "    <tr style=\"text-align: right;\">\n",
       "      <th></th>\n",
       "      <th>Energy Source</th>\n",
       "      <th>Energy Consumption (MWh)</th>\n",
       "      <th>Cost (millions $)</th>\n",
       "    </tr>\n",
       "  </thead>\n",
       "  <tbody>\n",
       "    <tr>\n",
       "      <th>0</th>\n",
       "      <td>Solar</td>\n",
       "      <td>-0.427028</td>\n",
       "      <td>-6.546537e-01</td>\n",
       "    </tr>\n",
       "    <tr>\n",
       "      <th>1</th>\n",
       "      <td>Wind</td>\n",
       "      <td>-1.212209</td>\n",
       "      <td>1.963961e+00</td>\n",
       "    </tr>\n",
       "    <tr>\n",
       "      <th>2</th>\n",
       "      <td>Hydropower</td>\n",
       "      <td>0.978032</td>\n",
       "      <td>1.817029e-16</td>\n",
       "    </tr>\n",
       "    <tr>\n",
       "      <th>3</th>\n",
       "      <td>Geothermal</td>\n",
       "      <td>-1.212209</td>\n",
       "      <td>-1.309307e+00</td>\n",
       "    </tr>\n",
       "    <tr>\n",
       "      <th>4</th>\n",
       "      <td>Biomass</td>\n",
       "      <td>0.647430</td>\n",
       "      <td>1.817029e-16</td>\n",
       "    </tr>\n",
       "    <tr>\n",
       "      <th>5</th>\n",
       "      <td>Nuclear</td>\n",
       "      <td>1.225984</td>\n",
       "      <td>1.817029e-16</td>\n",
       "    </tr>\n",
       "  </tbody>\n",
       "</table>\n",
       "</div>"
      ],
      "text/plain": [
       "  Energy Source  Energy Consumption (MWh)  Cost (millions $)\n",
       "0         Solar                 -0.427028      -6.546537e-01\n",
       "1          Wind                 -1.212209       1.963961e+00\n",
       "2    Hydropower                  0.978032       1.817029e-16\n",
       "3    Geothermal                 -1.212209      -1.309307e+00\n",
       "4       Biomass                  0.647430       1.817029e-16\n",
       "5       Nuclear                  1.225984       1.817029e-16"
      ]
     },
     "execution_count": 27,
     "metadata": {},
     "output_type": "execute_result"
    }
   ],
   "source": [
    "from sklearn.preprocessing import StandardScaler\n",
    "scaler = StandardScaler()\n",
    "df[[\"Energy Consumption (MWh)\",\"Cost (millions $)\"]] = scaler.fit_transform(df[[\"Energy Consumption (MWh)\",\"Cost (millions $)\"]])\n",
    "df"
   ]
  },
  {
   "cell_type": "markdown",
   "id": "547ca99b-aaab-4ad9-8f53-931cd3428705",
   "metadata": {},
   "source": [
    "## Encoding - One hot encoding"
   ]
  },
  {
   "cell_type": "code",
   "execution_count": 29,
   "id": "db9cd864-a432-4f6d-b344-418a75b4be20",
   "metadata": {},
   "outputs": [
    {
     "name": "stdout",
     "output_type": "stream",
     "text": [
      "   Energy Consumption (MWh)  Cost (millions $)  Energy Source_Biomass  \\\n",
      "0                 -0.427028      -6.546537e-01                  False   \n",
      "1                 -1.212209       1.963961e+00                  False   \n",
      "2                  0.978032       1.817029e-16                  False   \n",
      "3                 -1.212209      -1.309307e+00                  False   \n",
      "4                  0.647430       1.817029e-16                   True   \n",
      "5                  1.225984       1.817029e-16                  False   \n",
      "\n",
      "   Energy Source_Geothermal  Energy Source_Hydropower  Energy Source_Nuclear  \\\n",
      "0                     False                     False                  False   \n",
      "1                     False                     False                  False   \n",
      "2                     False                      True                  False   \n",
      "3                      True                     False                  False   \n",
      "4                     False                     False                  False   \n",
      "5                     False                     False                   True   \n",
      "\n",
      "   Energy Source_Solar  Energy Source_Wind  \n",
      "0                 True               False  \n",
      "1                False                True  \n",
      "2                False               False  \n",
      "3                False               False  \n",
      "4                False               False  \n",
      "5                False               False  \n"
     ]
    }
   ],
   "source": [
    "ohe_df =pd.get_dummies(df,columns=[\"Energy Source\"])\n",
    "print(ohe_df)"
   ]
  },
  {
   "cell_type": "code",
   "execution_count": 30,
   "id": "8f0042c0-9288-42a5-9d94-5751f503493e",
   "metadata": {},
   "outputs": [
    {
     "data": {
      "text/html": [
       "<div>\n",
       "<style scoped>\n",
       "    .dataframe tbody tr th:only-of-type {\n",
       "        vertical-align: middle;\n",
       "    }\n",
       "\n",
       "    .dataframe tbody tr th {\n",
       "        vertical-align: top;\n",
       "    }\n",
       "\n",
       "    .dataframe thead th {\n",
       "        text-align: right;\n",
       "    }\n",
       "</style>\n",
       "<table border=\"1\" class=\"dataframe\">\n",
       "  <thead>\n",
       "    <tr style=\"text-align: right;\">\n",
       "      <th></th>\n",
       "      <th>Energy Consumption (MWh)</th>\n",
       "      <th>Cost (millions $)</th>\n",
       "      <th>Energy Source_Biomass</th>\n",
       "      <th>Energy Source_Geothermal</th>\n",
       "      <th>Energy Source_Hydropower</th>\n",
       "      <th>Energy Source_Nuclear</th>\n",
       "      <th>Energy Source_Solar</th>\n",
       "      <th>Energy Source_Wind</th>\n",
       "      <th>Consumption per Million $</th>\n",
       "    </tr>\n",
       "  </thead>\n",
       "  <tbody>\n",
       "    <tr>\n",
       "      <th>0</th>\n",
       "      <td>-0.427028</td>\n",
       "      <td>-6.546537e-01</td>\n",
       "      <td>False</td>\n",
       "      <td>False</td>\n",
       "      <td>False</td>\n",
       "      <td>False</td>\n",
       "      <td>True</td>\n",
       "      <td>False</td>\n",
       "      <td>6.522961e-01</td>\n",
       "    </tr>\n",
       "    <tr>\n",
       "      <th>1</th>\n",
       "      <td>-1.212209</td>\n",
       "      <td>1.963961e+00</td>\n",
       "      <td>False</td>\n",
       "      <td>False</td>\n",
       "      <td>False</td>\n",
       "      <td>False</td>\n",
       "      <td>False</td>\n",
       "      <td>True</td>\n",
       "      <td>-6.172264e-01</td>\n",
       "    </tr>\n",
       "    <tr>\n",
       "      <th>2</th>\n",
       "      <td>0.978032</td>\n",
       "      <td>1.817029e-16</td>\n",
       "      <td>False</td>\n",
       "      <td>False</td>\n",
       "      <td>True</td>\n",
       "      <td>False</td>\n",
       "      <td>False</td>\n",
       "      <td>False</td>\n",
       "      <td>5.382589e+15</td>\n",
       "    </tr>\n",
       "    <tr>\n",
       "      <th>3</th>\n",
       "      <td>-1.212209</td>\n",
       "      <td>-1.309307e+00</td>\n",
       "      <td>False</td>\n",
       "      <td>True</td>\n",
       "      <td>False</td>\n",
       "      <td>False</td>\n",
       "      <td>False</td>\n",
       "      <td>False</td>\n",
       "      <td>9.258396e-01</td>\n",
       "    </tr>\n",
       "    <tr>\n",
       "      <th>4</th>\n",
       "      <td>0.647430</td>\n",
       "      <td>1.817029e-16</td>\n",
       "      <td>True</td>\n",
       "      <td>False</td>\n",
       "      <td>False</td>\n",
       "      <td>False</td>\n",
       "      <td>False</td>\n",
       "      <td>False</td>\n",
       "      <td>3.563122e+15</td>\n",
       "    </tr>\n",
       "    <tr>\n",
       "      <th>5</th>\n",
       "      <td>1.225984</td>\n",
       "      <td>1.817029e-16</td>\n",
       "      <td>False</td>\n",
       "      <td>False</td>\n",
       "      <td>False</td>\n",
       "      <td>True</td>\n",
       "      <td>False</td>\n",
       "      <td>False</td>\n",
       "      <td>6.747189e+15</td>\n",
       "    </tr>\n",
       "  </tbody>\n",
       "</table>\n",
       "</div>"
      ],
      "text/plain": [
       "   Energy Consumption (MWh)  Cost (millions $)  Energy Source_Biomass  \\\n",
       "0                 -0.427028      -6.546537e-01                  False   \n",
       "1                 -1.212209       1.963961e+00                  False   \n",
       "2                  0.978032       1.817029e-16                  False   \n",
       "3                 -1.212209      -1.309307e+00                  False   \n",
       "4                  0.647430       1.817029e-16                   True   \n",
       "5                  1.225984       1.817029e-16                  False   \n",
       "\n",
       "   Energy Source_Geothermal  Energy Source_Hydropower  Energy Source_Nuclear  \\\n",
       "0                     False                     False                  False   \n",
       "1                     False                     False                  False   \n",
       "2                     False                      True                  False   \n",
       "3                      True                     False                  False   \n",
       "4                     False                     False                  False   \n",
       "5                     False                     False                   True   \n",
       "\n",
       "   Energy Source_Solar  Energy Source_Wind  Consumption per Million $  \n",
       "0                 True               False               6.522961e-01  \n",
       "1                False                True              -6.172264e-01  \n",
       "2                False               False               5.382589e+15  \n",
       "3                False               False               9.258396e-01  \n",
       "4                False               False               3.563122e+15  \n",
       "5                False               False               6.747189e+15  "
      ]
     },
     "execution_count": 30,
     "metadata": {},
     "output_type": "execute_result"
    }
   ],
   "source": [
    "# Feature engineering\n",
    "ohe_df[\"Consumption per Million $\"]= ohe_df[\"Energy Consumption (MWh)\"]/ohe_df[\"Cost (millions $)\"]\n",
    "ohe_df"
   ]
  },
  {
   "cell_type": "code",
   "execution_count": null,
   "id": "4cf75b64-dbf7-456f-ab4b-98f0ef9ec8c9",
   "metadata": {},
   "outputs": [],
   "source": []
  }
 ],
 "metadata": {
  "kernelspec": {
   "display_name": "Python 3 (ipykernel)",
   "language": "python",
   "name": "python3"
  },
  "language_info": {
   "codemirror_mode": {
    "name": "ipython",
    "version": 3
   },
   "file_extension": ".py",
   "mimetype": "text/x-python",
   "name": "python",
   "nbconvert_exporter": "python",
   "pygments_lexer": "ipython3",
   "version": "3.12.8"
  }
 },
 "nbformat": 4,
 "nbformat_minor": 5
}
