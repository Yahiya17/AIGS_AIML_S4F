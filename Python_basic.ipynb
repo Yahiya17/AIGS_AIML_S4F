{
 "cells": [
  {
   "cell_type": "markdown",
   "id": "200f9888-71b7-4742-a2d4-79a5eff3a287",
   "metadata": {},
   "source": [
    "# Python Basic"
   ]
  },
  {
   "cell_type": "code",
   "execution_count": 3,
   "id": "1c5535ce-5341-44eb-99c6-a58bdc905b94",
   "metadata": {},
   "outputs": [],
   "source": [
    "# This is my first comment"
   ]
  },
  {
   "cell_type": "code",
   "execution_count": 4,
   "id": "6d437e6a-925d-4884-933b-c9a103f21564",
   "metadata": {},
   "outputs": [
    {
     "name": "stdout",
     "output_type": "stream",
     "text": [
      "My name is Yahiya\n"
     ]
    }
   ],
   "source": [
    "print(\"My name is Yahiya\")"
   ]
  },
  {
   "cell_type": "code",
   "execution_count": 5,
   "id": "2112991b-ce3c-40f5-86c3-f7415b8920a9",
   "metadata": {},
   "outputs": [],
   "source": [
    "# create a string variable"
   ]
  },
  {
   "cell_type": "code",
   "execution_count": 6,
   "id": "7b7282d2-1ed9-4a6c-a674-8942bcc04308",
   "metadata": {},
   "outputs": [
    {
     "name": "stdout",
     "output_type": "stream",
     "text": [
      "Bengaluru\n"
     ]
    }
   ],
   "source": [
    "city_name=\"Bengaluru\"\n",
    "\n",
    "#print the variable\n",
    "print(city_name)"
   ]
  },
  {
   "cell_type": "code",
   "execution_count": 7,
   "id": "1badad33-4035-42d1-8514-8df460fa6b22",
   "metadata": {},
   "outputs": [
    {
     "name": "stdout",
     "output_type": "stream",
     "text": [
      "City name is Bengaluru\n"
     ]
    }
   ],
   "source": [
    "print(f\"City name is {city_name}\")"
   ]
  },
  {
   "cell_type": "code",
   "execution_count": 8,
   "id": "4ba9f723-85ea-4cf5-9097-9a46c74fe5ec",
   "metadata": {},
   "outputs": [
    {
     "name": "stdout",
     "output_type": "stream",
     "text": [
      " Temperature in Bengaluru right now is 25°C\n"
     ]
    }
   ],
   "source": [
    "temperature=25\n",
    "print(f\" Temperature in {city_name} right now is {temperature}°C\")"
   ]
  },
  {
   "cell_type": "code",
   "execution_count": 9,
   "id": "c8892528-4cce-4207-afbb-e4f36f5b36ae",
   "metadata": {},
   "outputs": [
    {
     "name": "stdout",
     "output_type": "stream",
     "text": [
      "carbon footprint : 500.75 kg CO2\n"
     ]
    }
   ],
   "source": [
    "carbon_footprint =500.75 #kgCO2\n",
    "print(f\"carbon footprint : {carbon_footprint} kg CO2\")"
   ]
  },
  {
   "cell_type": "code",
   "execution_count": 10,
   "id": "e966c163-bc7c-4831-8c10-9fc3692df0e5",
   "metadata": {},
   "outputs": [
    {
     "name": "stdout",
     "output_type": "stream",
     "text": [
      "Is the Bengaluru Sustainable? False\n"
     ]
    }
   ],
   "source": [
    "# create a boolean variable to indicate if the city is sustainable\n",
    "is_sustainable= carbon_footprint < 400\n",
    "print(f\"Is the {city_name} Sustainable? {is_sustainable}\")"
   ]
  },
  {
   "cell_type": "code",
   "execution_count": 11,
   "id": "03a698b5-d43d-4c16-9827-ea1a3c8add6f",
   "metadata": {},
   "outputs": [
    {
     "name": "stdout",
     "output_type": "stream",
     "text": [
      "Weekly Temperature : [25, 27, 28, 26, 24, 30, 29]°C\n"
     ]
    }
   ],
   "source": [
    "weekly_temp =[25,27,28,26,24,30,29]\n",
    "print(f\"Weekly Temperature : {weekly_temp}°C\")"
   ]
  },
  {
   "cell_type": "code",
   "execution_count": 12,
   "id": "469b46df-35ee-437c-bb54-dc6c9cfe41d0",
   "metadata": {},
   "outputs": [
    {
     "name": "stdout",
     "output_type": "stream",
     "text": [
      "City data: {'name': 'Bengaluru', 'temperature': 27, 'carbon_footprint': 500.75, 'is_sustainable': False}\n"
     ]
    }
   ],
   "source": [
    "# Create dictionary variable to store city data\n",
    "# Dictionary store values in the form of key and value pairs key cannot be altered but the value can be changed\n",
    "city_data = {\n",
    "    \"name\":\"Bengaluru\",\n",
    "    \"temperature\":27,\n",
    "    \"carbon_footprint\":500.75,\n",
    "    \"is_sustainable\":False\n",
    "}\n",
    "# print the dictionary \n",
    "print(f\"City data: {city_data}\")"
   ]
  },
  {
   "cell_type": "code",
   "execution_count": 13,
   "id": "76488a65-04e1-4c55-93b5-dd340da85c12",
   "metadata": {},
   "outputs": [
    {
     "name": "stdout",
     "output_type": "stream",
     "text": [
      "city is Mysuru , temperature is 30 and carbon footprint is 289\n"
     ]
    }
   ],
   "source": [
    "city_name,temperature,carbon_footprint = \"Mysuru\",30,289\n",
    "print(f\"city is {city_name} , temperature is {temperature} and carbon footprint is {carbon_footprint}\")"
   ]
  },
  {
   "cell_type": "markdown",
   "id": "e245b069-6871-4ddf-9f56-ebc5cc830a12",
   "metadata": {},
   "source": [
    "## Control Structures"
   ]
  },
  {
   "cell_type": "code",
   "execution_count": 14,
   "id": "6ddddc19-7c76-4b47-8e2e-1ab1f6463425",
   "metadata": {},
   "outputs": [
    {
     "name": "stdout",
     "output_type": "stream",
     "text": [
      "cities with high temperature (> 26 c: )\n",
      "City B - 30 C\n",
      "City C - 35 C\n"
     ]
    }
   ],
   "source": [
    "#sample climate dataset\n",
    "climate_data=[\n",
    "    {\"city\" :\"City A\", \"temperature\":25 , \"carbon_footprint\":500},\n",
    "    {\"city\" :\"City B\", \"temperature\":30 , \"carbon_footprint\":450},\n",
    "    {\"city\" :\"City C\", \"temperature\":35 , \"carbon_footprint\":660},\n",
    "    {\"city\" :\"City D\", \"temperature\":22 , \"carbon_footprint\":200},\n",
    "    {\"city\" :\"City E\", \"temperature\":15 , \"carbon_footprint\":350}\n",
    "]\n",
    "# High temperature threshold\n",
    "high_temp_thresh=26\n",
    "\n",
    "high_temp_cities=[city for city in climate_data if city[\"temperature\"]>high_temp_thresh]\n",
    "\n",
    "#print the result\n",
    "\n",
    "print(\"cities with high temperature (> 26 c: )\")\n",
    "for city in high_temp_cities:\n",
    "    print(f\"{city[\"city\"]} - {city[\"temperature\"]} C\")"
   ]
  },
  {
   "cell_type": "code",
   "execution_count": 15,
   "id": "b5c722c6-f96c-48e0-b547-7602b958b635",
   "metadata": {},
   "outputs": [
    {
     "data": {
      "text/plain": [
       "'Mysuru'"
      ]
     },
     "execution_count": 15,
     "metadata": {},
     "output_type": "execute_result"
    }
   ],
   "source": [
    "city_name\n"
   ]
  },
  {
   "cell_type": "markdown",
   "id": "2f63affc-10df-44d0-a497-053134c6e33b",
   "metadata": {},
   "source": [
    "## Usse loops to calculate average carbon footprint"
   ]
  },
  {
   "cell_type": "code",
   "execution_count": 16,
   "id": "08dd24a5-fbce-47cf-a16a-7010cc59f273",
   "metadata": {},
   "outputs": [
    {
     "name": "stdout",
     "output_type": "stream",
     "text": [
      "\n",
      " Average Carbon Footprint : 432.00 kg CO2\n"
     ]
    }
   ],
   "source": [
    "total_carbon=0\n",
    "for city in climate_data:\n",
    "    total_carbon=total_carbon+city[\"carbon_footprint\"]\n",
    "\n",
    "avg_carbon_footprint=total_carbon/len(climate_data)\n",
    "print(f\"\\n Average Carbon Footprint : {avg_carbon_footprint:.2f} kg CO2\")"
   ]
  },
  {
   "cell_type": "markdown",
   "id": "d8996eb9-861c-4e9c-af0c-6cd7078cffe4",
   "metadata": {},
   "source": [
    "## Filter and Manipulate data to find sustainable cities"
   ]
  },
  {
   "cell_type": "code",
   "execution_count": 17,
   "id": "66e93c3b-5c9a-4f58-8f67-55972090810a",
   "metadata": {},
   "outputs": [
    {
     "name": "stdout",
     "output_type": "stream",
     "text": [
      "sustainable cities (carbo footprint < 400 kg CO2 \n",
      "City D - 200 kg CO2\n",
      "City E - 350 kg CO2\n"
     ]
    }
   ],
   "source": [
    "# setting the threshold for 400 kg of CO2\n",
    "sustainability_threshold=400\n",
    "sustainable_cities=list(filter(lambda city:city[\"carbon_footprint\"] < sustainability_threshold,climate_data))\n",
    "\n",
    "print(\"sustainable cities (carbo footprint < 400 kg CO2 \")\n",
    "for city in sustainable_cities:\n",
    "    print(f\"{city[\"city\"]} - {city[\"carbon_footprint\"]} kg CO2\")"
   ]
  },
  {
   "cell_type": "markdown",
   "id": "0ee7a09f-e901-49c6-9806-9480677ac885",
   "metadata": {},
   "source": [
    "## Analyze data to find the city with the highest carbon footprint"
   ]
  },
  {
   "cell_type": "code",
   "execution_count": 18,
   "id": "75c4764d-6b01-453c-a630-e70ac2896102",
   "metadata": {},
   "outputs": [
    {
     "name": "stdout",
     "output_type": "stream",
     "text": [
      "city with the highest carbon footprint is \n",
      "City C - 660 kg CO2 \n"
     ]
    }
   ],
   "source": [
    "highest_cf_city = max(climate_data,key=lambda city: city[\"carbon_footprint\"])\n",
    "print(\"city with the highest carbon footprint is \")\n",
    "print(f\"{highest_cf_city[\"city\"]} - {highest_cf_city[\"carbon_footprint\"]} kg CO2 \")\n"
   ]
  },
  {
   "cell_type": "markdown",
   "id": "d8523597-1858-4d83-a8fd-049739ad22cb",
   "metadata": {},
   "source": [
    "## Implementation of functions"
   ]
  },
  {
   "cell_type": "code",
   "execution_count": 19,
   "id": "22cd7c0d-8c30-40d5-851a-0996d04e0de4",
   "metadata": {},
   "outputs": [],
   "source": [
    "def calculate_carbon_footprint(energy_consumption, emission_factor):\n",
    "    '''\n",
    "    this function calculates the carbon fp based on ec and ef\n",
    "    '''\n",
    "    return energy_consumption * emission_factor"
   ]
  },
  {
   "cell_type": "code",
   "execution_count": 20,
   "id": "a7ffc670-de63-4109-8169-6a50b473aa38",
   "metadata": {},
   "outputs": [
    {
     "name": "stdout",
     "output_type": "stream",
     "text": [
      "carbon footprint: 475.0 Kg CO2\n"
     ]
    }
   ],
   "source": [
    "energy_consumption =1000\n",
    "emission_factor =0.475\n",
    "\n",
    "carbon_footprint=calculate_carbon_footprint(energy_consumption,emission_factor)\n",
    "print(f\"carbon footprint: {carbon_footprint} Kg CO2\")"
   ]
  },
  {
   "cell_type": "code",
   "execution_count": 21,
   "id": "ade0349a-3cd9-4f5f-9dc3-9853debc8b03",
   "metadata": {},
   "outputs": [
    {
     "name": "stdout",
     "output_type": "stream",
     "text": [
      "Sustainable Cities:\n",
      "City B\n",
      "City D\n"
     ]
    }
   ],
   "source": [
    "# List of cities with their carbon footprints in tons CO2 per month\n",
    "cities = [\n",
    "    {\"name\": \"City A\", \"carbon_footprint\": 500},\n",
    "    {\"name\": \"City B\", \"carbon_footprint\": 350},\n",
    "    {\"name\": \"City C\", \"carbon_footprint\": 600},\n",
    "    {\"name\": \"City D\", \"carbon_footprint\": 200},\n",
    "]\n",
    " \n",
    "# Lambda function to filter cities below the threshold (400 ton CO2)\n",
    "sustainability_threshold = 400\n",
    "sustainable_cities = list(filter(lambda city: city[\"carbon_footprint\"] < sustainability_threshold, cities))\n",
    " \n",
    "# Printing the filtered list of sustainable cities\n",
    "print(\"Sustainable Cities:\")\n",
    "for city in sustainable_cities:\n",
    "    print(city[\"name\"])"
   ]
  },
  {
   "cell_type": "markdown",
   "id": "b6772dac-cd1b-4789-aae7-4c3f24e24bdf",
   "metadata": {},
   "source": [
    "## Class definition (Energy System)"
   ]
  },
  {
   "cell_type": "code",
   "execution_count": 22,
   "id": "7d7c0b1a-689f-4bb0-b239-0fad59432d16",
   "metadata": {},
   "outputs": [
    {
     "name": "stdout",
     "output_type": "stream",
     "text": [
      "Building A:5000 Kwh ,0.45 Kg CO2/KWh\n"
     ]
    }
   ],
   "source": [
    "# Define the energy class system\n",
    "class EnergySystem:\n",
    "    def __init__(self,building_name,energy_consumption,emissio_factor):\n",
    "        #initialise the attribute\n",
    "        self.building_name=building_name\n",
    "        self.energy_consumption=energy_consumption\n",
    "        self.emissio_factor=emissio_factor\n",
    "building=EnergySystem(\"Building A\",5000,0.45)\n",
    "print(f\"{building.building_name}:{building.energy_consumption} Kwh ,{building.emissio_factor} Kg CO2/KWh\")"
   ]
  },
  {
   "cell_type": "code",
   "execution_count": 23,
   "id": "865bc416-6024-4d70-b8f4-a90c775e5b42",
   "metadata": {},
   "outputs": [
    {
     "name": "stdout",
     "output_type": "stream",
     "text": [
      "Carbon footprint is 2250.0kg CO2 and Energy savings is 500.0 KWh \n"
     ]
    }
   ],
   "source": [
    "# Define the energy class system\n",
    "class EnergySystem:\n",
    "    def __init__(self,building_name,energy_consumption,emissio_factor):\n",
    "        #initialise the attribute\n",
    "        self.building_name=building_name\n",
    "        self.energy_consumption=energy_consumption\n",
    "        self.emissio_factor=emissio_factor\n",
    "    def calculate_cf(self):\n",
    "        return self.energy_consumption * self.emissio_factor\n",
    "\n",
    "    def calculate_es(self):\n",
    "        return self.energy_consumption * 0.10   #10% savings\n",
    "\n",
    "building = EnergySystem(\"Building A\",5000,0.45)\n",
    "carbon_fp=building.calculate_cf()\n",
    "energy_savings=building.calculate_es()\n",
    "print(f\"Carbon footprint is {carbon_fp}kg CO2 and Energy savings is {energy_savings} KWh \")\n"
   ]
  },
  {
   "cell_type": "markdown",
   "id": "23293835-a8d0-4563-8f4f-85b05113afcd",
   "metadata": {},
   "source": [
    "## Inheritance"
   ]
  },
  {
   "cell_type": "code",
   "execution_count": 24,
   "id": "85a03e9e-05fe-4aed-b0da-4b3fd4120586",
   "metadata": {},
   "outputs": [
    {
     "name": "stdout",
     "output_type": "stream",
     "text": [
      "Net Energy  Consumption : 3500 Kwh\n"
     ]
    }
   ],
   "source": [
    "class solarEnergySystem(EnergySystem):\n",
    "    def __init__(self,building_name,energy_consumption,emissio_factor,solar_production):\n",
    "        super().__init__(building_name,energy_consumption,emissio_factor)\n",
    "        self.solar_production =solar_production\n",
    "\n",
    "    def net_energy_consumption(self):\n",
    "        return self.energy_consumption - self.solar_production\n",
    "\n",
    "solar_building =solarEnergySystem(\"Solar Building\",5000,0.45,1500)\n",
    "net_consumption=solar_building.net_energy_consumption()\n",
    "print(f\"Net Energy  Consumption : {net_consumption} Kwh\")"
   ]
  },
  {
   "cell_type": "markdown",
   "id": "be3a1464-be59-4e48-bfa1-2564241452e3",
   "metadata": {},
   "source": [
    "## Encapsulation (Protecting Attributes)"
   ]
  },
  {
   "cell_type": "code",
   "execution_count": 25,
   "id": "d2097223-f1c8-4097-ad5d-0503e3beace1",
   "metadata": {},
   "outputs": [
    {
     "name": "stdout",
     "output_type": "stream",
     "text": [
      "Energy Consumption (accessed via method): 5000 Kwh\n"
     ]
    }
   ],
   "source": [
    "class EnergySystem:\n",
    "    def __init__(self,building_name,energy_consumption,emissio_factor):\n",
    "        #initialise the attribute\n",
    "        self.building_name=building_name\n",
    "        self._energy_consumption=energy_consumption\n",
    "        self._emissio_factor=emissio_factor\n",
    "    # Method to access energy consumption safely\n",
    "    def get_energy_consumption(self):\n",
    "        return self._energy_consumption\n",
    "    # Method to calculate carbon footprint\n",
    "    def calculate_cf(self):\n",
    "        return self._energy_consumption * self._emissio_factor\n",
    "building = EnergySystem(\"Building A\",5000,0.45)\n",
    "print(f\"Energy Consumption (accessed via method): {building.get_energy_consumption()} Kwh\")"
   ]
  },
  {
   "cell_type": "markdown",
   "id": "c72e6a6c-9bfd-416f-9858-56e3cca2407b",
   "metadata": {},
   "source": [
    "# Polymorphism"
   ]
  },
  {
   "cell_type": "code",
   "execution_count": 33,
   "id": "fc3c3947-21e5-4af0-92aa-5f7cd62452b2",
   "metadata": {},
   "outputs": [
    {
     "name": "stdout",
     "output_type": "stream",
     "text": [
      "Adjusted carbon footprint (after solar production): 475.00 kg CO2\n"
     ]
    }
   ],
   "source": [
    "class solarEnergySystem(EnergySystem):\n",
    "    def __init__(self,building_name,energy_consumption,emissio_factor,solar_production):\n",
    "        super().__init__(building_name,energy_consumption,emissio_factor)\n",
    "        self.solar_production =solar_production\n",
    "\n",
    "    def calculate_cf(self):\n",
    "        net_consumption= self._energy_consumption - self.solar_production\n",
    "        return net_consumption * self._emissio_factor\n",
    "\n",
    "solar_building = solarEnergySystem(\"solar Building\",5000,0.45,1500)\n",
    "carbon_fp = solar_building.calculate_cf()\n",
    "print(f\"Adjusted carbon footprint (after solar production): {carbon_footprint:.2f} kg CO2\")"
   ]
  },
  {
   "cell_type": "code",
   "execution_count": null,
   "id": "851095a4-1730-4d9c-bea7-d80207ee832b",
   "metadata": {},
   "outputs": [],
   "source": []
  }
 ],
 "metadata": {
  "kernelspec": {
   "display_name": "Python 3 (ipykernel)",
   "language": "python",
   "name": "python3"
  },
  "language_info": {
   "codemirror_mode": {
    "name": "ipython",
    "version": 3
   },
   "file_extension": ".py",
   "mimetype": "text/x-python",
   "name": "python",
   "nbconvert_exporter": "python",
   "pygments_lexer": "ipython3",
   "version": "3.12.8"
  }
 },
 "nbformat": 4,
 "nbformat_minor": 5
}
