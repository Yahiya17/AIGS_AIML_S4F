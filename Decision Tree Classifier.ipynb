{
 "cells": [
  {
   "cell_type": "markdown",
   "id": "76f12b6f-bff7-438c-8652-f5866a70ab4b",
   "metadata": {},
   "source": [
    "## Decision Tree Classifier"
   ]
  },
  {
   "cell_type": "code",
   "execution_count": 1,
   "id": "041a2eb6-4470-4320-83eb-d49960c9ed57",
   "metadata": {},
   "outputs": [],
   "source": [
    "#importing necessary libraries\n",
    "import pandas as pd\n",
    "import numpy as np\n",
    "import matplotlib.pyplot as plt\n",
    "import seaborn as sns\n",
    "from sklearn.model_selection import train_test_split\n",
    "from sklearn.tree import DecisionTreeClassifier\n",
    "from sklearn.metrics import accuracy_score,confusion_matrix,classification_report\n",
    "from sklearn.tree import plot_tree"
   ]
  },
  {
   "cell_type": "code",
   "execution_count": 2,
   "id": "aa1218ba-7f7e-46c8-9f87-3ef0ab3b087a",
   "metadata": {},
   "outputs": [
    {
     "data": {
      "text/html": [
       "<div>\n",
       "<style scoped>\n",
       "    .dataframe tbody tr th:only-of-type {\n",
       "        vertical-align: middle;\n",
       "    }\n",
       "\n",
       "    .dataframe tbody tr th {\n",
       "        vertical-align: top;\n",
       "    }\n",
       "\n",
       "    .dataframe thead th {\n",
       "        text-align: right;\n",
       "    }\n",
       "</style>\n",
       "<table border=\"1\" class=\"dataframe\">\n",
       "  <thead>\n",
       "    <tr style=\"text-align: right;\">\n",
       "      <th></th>\n",
       "      <th>carbon_emissions</th>\n",
       "      <th>energy_output</th>\n",
       "      <th>renewability_index</th>\n",
       "      <th>cost_efficiency</th>\n",
       "      <th>adoption</th>\n",
       "    </tr>\n",
       "  </thead>\n",
       "  <tbody>\n",
       "    <tr>\n",
       "      <th>0</th>\n",
       "      <td>181.089042</td>\n",
       "      <td>128.286267</td>\n",
       "      <td>0.642032</td>\n",
       "      <td>0.732568</td>\n",
       "      <td>1</td>\n",
       "    </tr>\n",
       "    <tr>\n",
       "      <th>1</th>\n",
       "      <td>382.750007</td>\n",
       "      <td>672.769370</td>\n",
       "      <td>0.084140</td>\n",
       "      <td>2.891096</td>\n",
       "      <td>0</td>\n",
       "    </tr>\n",
       "    <tr>\n",
       "      <th>2</th>\n",
       "      <td>306.197880</td>\n",
       "      <td>382.920383</td>\n",
       "      <td>0.161629</td>\n",
       "      <td>2.932858</td>\n",
       "      <td>0</td>\n",
       "    </tr>\n",
       "    <tr>\n",
       "      <th>3</th>\n",
       "      <td>259.530469</td>\n",
       "      <td>557.713622</td>\n",
       "      <td>0.898554</td>\n",
       "      <td>3.368435</td>\n",
       "      <td>0</td>\n",
       "    </tr>\n",
       "    <tr>\n",
       "      <th>4</th>\n",
       "      <td>104.606524</td>\n",
       "      <td>916.809827</td>\n",
       "      <td>0.606429</td>\n",
       "      <td>3.767411</td>\n",
       "      <td>0</td>\n",
       "    </tr>\n",
       "  </tbody>\n",
       "</table>\n",
       "</div>"
      ],
      "text/plain": [
       "   carbon_emissions  energy_output  renewability_index  cost_efficiency  adoption\n",
       "0        181.089042     128.286267            0.642032         0.732568         1\n",
       "1        382.750007     672.769370            0.084140         2.891096         0\n",
       "2        306.197880     382.920383            0.161629         2.932858         0\n",
       "3        259.530469     557.713622            0.898554         3.368435         0\n",
       "4        104.606524     916.809827            0.606429         3.767411         0"
      ]
     },
     "execution_count": 2,
     "metadata": {},
     "output_type": "execute_result"
    }
   ],
   "source": [
    "# load the dataset \n",
    "df = pd.read_csv(\"Renewable_Energy_Adoption.csv\")\n",
    "df.head()"
   ]
  },
  {
   "cell_type": "code",
   "execution_count": null,
   "id": "1c4a77b1-5aaa-400d-85bd-39cf3dd62fa2",
   "metadata": {},
   "outputs": [],
   "source": []
  }
 ],
 "metadata": {
  "kernelspec": {
   "display_name": "Python 3 (ipykernel)",
   "language": "python",
   "name": "python3"
  },
  "language_info": {
   "codemirror_mode": {
    "name": "ipython",
    "version": 3
   },
   "file_extension": ".py",
   "mimetype": "text/x-python",
   "name": "python",
   "nbconvert_exporter": "python",
   "pygments_lexer": "ipython3",
   "version": "3.12.8"
  }
 },
 "nbformat": 4,
 "nbformat_minor": 5
}
